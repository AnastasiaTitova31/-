{
 "cells": [
  {
   "cell_type": "markdown",
   "id": "3d215fbd",
   "metadata": {},
   "source": [
    "# Сборный проект\n",
    "Вы работаете в интернет-магазине «Стримчик», который продаёт по всему миру компьютерные игры. Из открытых источников доступны исторические данные о продажах игр, оценки пользователей и экспертов, жанры и платформы (например, Xbox или PlayStation). Вам нужно выявить определяющие успешность игры закономерности. Это позволит сделать ставку на потенциально популярный продукт и спланировать рекламные кампании.\n",
    "Перед вами данные до 2016 года. Представим, что сейчас декабрь 2016 г., и вы планируете кампанию на 2017-й. Нужно отработать принцип работы с данными. Неважно, прогнозируете ли вы продажи на 2017 год по данным 2016-го или же 2027-й — по данным 2026 года."
   ]
  },
  {
   "cell_type": "markdown",
   "id": "bb751bab",
   "metadata": {},
   "source": [
    "## Изучение общей информации"
   ]
  },
  {
   "cell_type": "code",
   "execution_count": 1,
   "id": "a945c750",
   "metadata": {},
   "outputs": [],
   "source": [
    "import pandas as pd\n",
    "import matplotlib.pyplot as plt \n",
    "import numpy as np\n",
    "from scipy import stats as st"
   ]
  },
  {
   "cell_type": "code",
   "execution_count": 2,
   "id": "e5cb8207",
   "metadata": {},
   "outputs": [
    {
     "ename": "FileNotFoundError",
     "evalue": "[Errno 2] No such file or directory: '/datasets/games.csv'",
     "output_type": "error",
     "traceback": [
      "\u001b[0;31m---------------------------------------------------------------------------\u001b[0m",
      "\u001b[0;31mFileNotFoundError\u001b[0m                         Traceback (most recent call last)",
      "\u001b[0;32m<ipython-input-2-d247f48ebb22>\u001b[0m in \u001b[0;36m<module>\u001b[0;34m\u001b[0m\n\u001b[1;32m      1\u001b[0m \u001b[0;32mtry\u001b[0m\u001b[0;34m:\u001b[0m\u001b[0;34m\u001b[0m\u001b[0;34m\u001b[0m\u001b[0m\n\u001b[0;32m----> 2\u001b[0;31m     \u001b[0mdf\u001b[0m \u001b[0;34m=\u001b[0m \u001b[0mpd\u001b[0m\u001b[0;34m.\u001b[0m\u001b[0mread_csv\u001b[0m\u001b[0;34m(\u001b[0m\u001b[0;34m'/Users/anastasia/Desktop/games.csv'\u001b[0m\u001b[0;34m)\u001b[0m\u001b[0;34m\u001b[0m\u001b[0;34m\u001b[0m\u001b[0m\n\u001b[0m\u001b[1;32m      3\u001b[0m \u001b[0;32mexcept\u001b[0m \u001b[0mFileNotFoundError\u001b[0m\u001b[0;34m:\u001b[0m\u001b[0;34m\u001b[0m\u001b[0;34m\u001b[0m\u001b[0m\n",
      "\u001b[0;32m~/opt/anaconda3/lib/python3.8/site-packages/pandas/io/parsers.py\u001b[0m in \u001b[0;36mread_csv\u001b[0;34m(filepath_or_buffer, sep, delimiter, header, names, index_col, usecols, squeeze, prefix, mangle_dupe_cols, dtype, engine, converters, true_values, false_values, skipinitialspace, skiprows, skipfooter, nrows, na_values, keep_default_na, na_filter, verbose, skip_blank_lines, parse_dates, infer_datetime_format, keep_date_col, date_parser, dayfirst, cache_dates, iterator, chunksize, compression, thousands, decimal, lineterminator, quotechar, quoting, doublequote, escapechar, comment, encoding, dialect, error_bad_lines, warn_bad_lines, delim_whitespace, low_memory, memory_map, float_precision, storage_options)\u001b[0m\n\u001b[1;32m    609\u001b[0m \u001b[0;34m\u001b[0m\u001b[0m\n\u001b[0;32m--> 610\u001b[0;31m     \u001b[0;32mreturn\u001b[0m \u001b[0m_read\u001b[0m\u001b[0;34m(\u001b[0m\u001b[0mfilepath_or_buffer\u001b[0m\u001b[0;34m,\u001b[0m \u001b[0mkwds\u001b[0m\u001b[0;34m)\u001b[0m\u001b[0;34m\u001b[0m\u001b[0;34m\u001b[0m\u001b[0m\n\u001b[0m\u001b[1;32m    611\u001b[0m \u001b[0;34m\u001b[0m\u001b[0m\n",
      "\u001b[0;32m~/opt/anaconda3/lib/python3.8/site-packages/pandas/io/parsers.py\u001b[0m in \u001b[0;36m_read\u001b[0;34m(filepath_or_buffer, kwds)\u001b[0m\n\u001b[1;32m    461\u001b[0m     \u001b[0;31m# Create the parser.\u001b[0m\u001b[0;34m\u001b[0m\u001b[0;34m\u001b[0m\u001b[0;34m\u001b[0m\u001b[0m\n\u001b[0;32m--> 462\u001b[0;31m     \u001b[0mparser\u001b[0m \u001b[0;34m=\u001b[0m \u001b[0mTextFileReader\u001b[0m\u001b[0;34m(\u001b[0m\u001b[0mfilepath_or_buffer\u001b[0m\u001b[0;34m,\u001b[0m \u001b[0;34m**\u001b[0m\u001b[0mkwds\u001b[0m\u001b[0;34m)\u001b[0m\u001b[0;34m\u001b[0m\u001b[0;34m\u001b[0m\u001b[0m\n\u001b[0m\u001b[1;32m    463\u001b[0m \u001b[0;34m\u001b[0m\u001b[0m\n",
      "\u001b[0;32m~/opt/anaconda3/lib/python3.8/site-packages/pandas/io/parsers.py\u001b[0m in \u001b[0;36m__init__\u001b[0;34m(self, f, engine, **kwds)\u001b[0m\n\u001b[1;32m    818\u001b[0m \u001b[0;34m\u001b[0m\u001b[0m\n\u001b[0;32m--> 819\u001b[0;31m         \u001b[0mself\u001b[0m\u001b[0;34m.\u001b[0m\u001b[0m_engine\u001b[0m \u001b[0;34m=\u001b[0m \u001b[0mself\u001b[0m\u001b[0;34m.\u001b[0m\u001b[0m_make_engine\u001b[0m\u001b[0;34m(\u001b[0m\u001b[0mself\u001b[0m\u001b[0;34m.\u001b[0m\u001b[0mengine\u001b[0m\u001b[0;34m)\u001b[0m\u001b[0;34m\u001b[0m\u001b[0;34m\u001b[0m\u001b[0m\n\u001b[0m\u001b[1;32m    820\u001b[0m \u001b[0;34m\u001b[0m\u001b[0m\n",
      "\u001b[0;32m~/opt/anaconda3/lib/python3.8/site-packages/pandas/io/parsers.py\u001b[0m in \u001b[0;36m_make_engine\u001b[0;34m(self, engine)\u001b[0m\n\u001b[1;32m   1049\u001b[0m         \u001b[0;31m# error: Too many arguments for \"ParserBase\"\u001b[0m\u001b[0;34m\u001b[0m\u001b[0;34m\u001b[0m\u001b[0;34m\u001b[0m\u001b[0m\n\u001b[0;32m-> 1050\u001b[0;31m         \u001b[0;32mreturn\u001b[0m \u001b[0mmapping\u001b[0m\u001b[0;34m[\u001b[0m\u001b[0mengine\u001b[0m\u001b[0;34m]\u001b[0m\u001b[0;34m(\u001b[0m\u001b[0mself\u001b[0m\u001b[0;34m.\u001b[0m\u001b[0mf\u001b[0m\u001b[0;34m,\u001b[0m \u001b[0;34m**\u001b[0m\u001b[0mself\u001b[0m\u001b[0;34m.\u001b[0m\u001b[0moptions\u001b[0m\u001b[0;34m)\u001b[0m  \u001b[0;31m# type: ignore[call-arg]\u001b[0m\u001b[0;34m\u001b[0m\u001b[0;34m\u001b[0m\u001b[0m\n\u001b[0m\u001b[1;32m   1051\u001b[0m \u001b[0;34m\u001b[0m\u001b[0m\n",
      "\u001b[0;32m~/opt/anaconda3/lib/python3.8/site-packages/pandas/io/parsers.py\u001b[0m in \u001b[0;36m__init__\u001b[0;34m(self, src, **kwds)\u001b[0m\n\u001b[1;32m   1866\u001b[0m         \u001b[0;31m# open handles\u001b[0m\u001b[0;34m\u001b[0m\u001b[0;34m\u001b[0m\u001b[0;34m\u001b[0m\u001b[0m\n\u001b[0;32m-> 1867\u001b[0;31m         \u001b[0mself\u001b[0m\u001b[0;34m.\u001b[0m\u001b[0m_open_handles\u001b[0m\u001b[0;34m(\u001b[0m\u001b[0msrc\u001b[0m\u001b[0;34m,\u001b[0m \u001b[0mkwds\u001b[0m\u001b[0;34m)\u001b[0m\u001b[0;34m\u001b[0m\u001b[0;34m\u001b[0m\u001b[0m\n\u001b[0m\u001b[1;32m   1868\u001b[0m         \u001b[0;32massert\u001b[0m \u001b[0mself\u001b[0m\u001b[0;34m.\u001b[0m\u001b[0mhandles\u001b[0m \u001b[0;32mis\u001b[0m \u001b[0;32mnot\u001b[0m \u001b[0;32mNone\u001b[0m\u001b[0;34m\u001b[0m\u001b[0;34m\u001b[0m\u001b[0m\n",
      "\u001b[0;32m~/opt/anaconda3/lib/python3.8/site-packages/pandas/io/parsers.py\u001b[0m in \u001b[0;36m_open_handles\u001b[0;34m(self, src, kwds)\u001b[0m\n\u001b[1;32m   1361\u001b[0m         \"\"\"\n\u001b[0;32m-> 1362\u001b[0;31m         self.handles = get_handle(\n\u001b[0m\u001b[1;32m   1363\u001b[0m             \u001b[0msrc\u001b[0m\u001b[0;34m,\u001b[0m\u001b[0;34m\u001b[0m\u001b[0;34m\u001b[0m\u001b[0m\n",
      "\u001b[0;32m~/opt/anaconda3/lib/python3.8/site-packages/pandas/io/common.py\u001b[0m in \u001b[0;36mget_handle\u001b[0;34m(path_or_buf, mode, encoding, compression, memory_map, is_text, errors, storage_options)\u001b[0m\n\u001b[1;32m    641\u001b[0m             \u001b[0;31m# Encoding\u001b[0m\u001b[0;34m\u001b[0m\u001b[0;34m\u001b[0m\u001b[0;34m\u001b[0m\u001b[0m\n\u001b[0;32m--> 642\u001b[0;31m             handle = open(\n\u001b[0m\u001b[1;32m    643\u001b[0m                 \u001b[0mhandle\u001b[0m\u001b[0;34m,\u001b[0m\u001b[0;34m\u001b[0m\u001b[0;34m\u001b[0m\u001b[0m\n",
      "\u001b[0;31mFileNotFoundError\u001b[0m: [Errno 2] No such file or directory: '/Users/anastasia/Desktop/games.csv'",
      "\nDuring handling of the above exception, another exception occurred:\n",
      "\u001b[0;31mFileNotFoundError\u001b[0m                         Traceback (most recent call last)",
      "\u001b[0;32m<ipython-input-2-d247f48ebb22>\u001b[0m in \u001b[0;36m<module>\u001b[0;34m\u001b[0m\n\u001b[1;32m      2\u001b[0m     \u001b[0mdf\u001b[0m \u001b[0;34m=\u001b[0m \u001b[0mpd\u001b[0m\u001b[0;34m.\u001b[0m\u001b[0mread_csv\u001b[0m\u001b[0;34m(\u001b[0m\u001b[0;34m'/Users/anastasia/Desktop/games.csv'\u001b[0m\u001b[0;34m)\u001b[0m\u001b[0;34m\u001b[0m\u001b[0;34m\u001b[0m\u001b[0m\n\u001b[1;32m      3\u001b[0m \u001b[0;32mexcept\u001b[0m \u001b[0mFileNotFoundError\u001b[0m\u001b[0;34m:\u001b[0m\u001b[0;34m\u001b[0m\u001b[0;34m\u001b[0m\u001b[0m\n\u001b[0;32m----> 4\u001b[0;31m     \u001b[0mdf\u001b[0m \u001b[0;34m=\u001b[0m \u001b[0mpd\u001b[0m\u001b[0;34m.\u001b[0m\u001b[0mread_csv\u001b[0m\u001b[0;34m(\u001b[0m\u001b[0;34m'/datasets/games.csv'\u001b[0m\u001b[0;34m)\u001b[0m\u001b[0;34m\u001b[0m\u001b[0;34m\u001b[0m\u001b[0m\n\u001b[0m",
      "\u001b[0;32m~/opt/anaconda3/lib/python3.8/site-packages/pandas/io/parsers.py\u001b[0m in \u001b[0;36mread_csv\u001b[0;34m(filepath_or_buffer, sep, delimiter, header, names, index_col, usecols, squeeze, prefix, mangle_dupe_cols, dtype, engine, converters, true_values, false_values, skipinitialspace, skiprows, skipfooter, nrows, na_values, keep_default_na, na_filter, verbose, skip_blank_lines, parse_dates, infer_datetime_format, keep_date_col, date_parser, dayfirst, cache_dates, iterator, chunksize, compression, thousands, decimal, lineterminator, quotechar, quoting, doublequote, escapechar, comment, encoding, dialect, error_bad_lines, warn_bad_lines, delim_whitespace, low_memory, memory_map, float_precision, storage_options)\u001b[0m\n\u001b[1;32m    608\u001b[0m     \u001b[0mkwds\u001b[0m\u001b[0;34m.\u001b[0m\u001b[0mupdate\u001b[0m\u001b[0;34m(\u001b[0m\u001b[0mkwds_defaults\u001b[0m\u001b[0;34m)\u001b[0m\u001b[0;34m\u001b[0m\u001b[0;34m\u001b[0m\u001b[0m\n\u001b[1;32m    609\u001b[0m \u001b[0;34m\u001b[0m\u001b[0m\n\u001b[0;32m--> 610\u001b[0;31m     \u001b[0;32mreturn\u001b[0m \u001b[0m_read\u001b[0m\u001b[0;34m(\u001b[0m\u001b[0mfilepath_or_buffer\u001b[0m\u001b[0;34m,\u001b[0m \u001b[0mkwds\u001b[0m\u001b[0;34m)\u001b[0m\u001b[0;34m\u001b[0m\u001b[0;34m\u001b[0m\u001b[0m\n\u001b[0m\u001b[1;32m    611\u001b[0m \u001b[0;34m\u001b[0m\u001b[0m\n\u001b[1;32m    612\u001b[0m \u001b[0;34m\u001b[0m\u001b[0m\n",
      "\u001b[0;32m~/opt/anaconda3/lib/python3.8/site-packages/pandas/io/parsers.py\u001b[0m in \u001b[0;36m_read\u001b[0;34m(filepath_or_buffer, kwds)\u001b[0m\n\u001b[1;32m    460\u001b[0m \u001b[0;34m\u001b[0m\u001b[0m\n\u001b[1;32m    461\u001b[0m     \u001b[0;31m# Create the parser.\u001b[0m\u001b[0;34m\u001b[0m\u001b[0;34m\u001b[0m\u001b[0;34m\u001b[0m\u001b[0m\n\u001b[0;32m--> 462\u001b[0;31m     \u001b[0mparser\u001b[0m \u001b[0;34m=\u001b[0m \u001b[0mTextFileReader\u001b[0m\u001b[0;34m(\u001b[0m\u001b[0mfilepath_or_buffer\u001b[0m\u001b[0;34m,\u001b[0m \u001b[0;34m**\u001b[0m\u001b[0mkwds\u001b[0m\u001b[0;34m)\u001b[0m\u001b[0;34m\u001b[0m\u001b[0;34m\u001b[0m\u001b[0m\n\u001b[0m\u001b[1;32m    463\u001b[0m \u001b[0;34m\u001b[0m\u001b[0m\n\u001b[1;32m    464\u001b[0m     \u001b[0;32mif\u001b[0m \u001b[0mchunksize\u001b[0m \u001b[0;32mor\u001b[0m \u001b[0miterator\u001b[0m\u001b[0;34m:\u001b[0m\u001b[0;34m\u001b[0m\u001b[0;34m\u001b[0m\u001b[0m\n",
      "\u001b[0;32m~/opt/anaconda3/lib/python3.8/site-packages/pandas/io/parsers.py\u001b[0m in \u001b[0;36m__init__\u001b[0;34m(self, f, engine, **kwds)\u001b[0m\n\u001b[1;32m    817\u001b[0m             \u001b[0mself\u001b[0m\u001b[0;34m.\u001b[0m\u001b[0moptions\u001b[0m\u001b[0;34m[\u001b[0m\u001b[0;34m\"has_index_names\"\u001b[0m\u001b[0;34m]\u001b[0m \u001b[0;34m=\u001b[0m \u001b[0mkwds\u001b[0m\u001b[0;34m[\u001b[0m\u001b[0;34m\"has_index_names\"\u001b[0m\u001b[0;34m]\u001b[0m\u001b[0;34m\u001b[0m\u001b[0;34m\u001b[0m\u001b[0m\n\u001b[1;32m    818\u001b[0m \u001b[0;34m\u001b[0m\u001b[0m\n\u001b[0;32m--> 819\u001b[0;31m         \u001b[0mself\u001b[0m\u001b[0;34m.\u001b[0m\u001b[0m_engine\u001b[0m \u001b[0;34m=\u001b[0m \u001b[0mself\u001b[0m\u001b[0;34m.\u001b[0m\u001b[0m_make_engine\u001b[0m\u001b[0;34m(\u001b[0m\u001b[0mself\u001b[0m\u001b[0;34m.\u001b[0m\u001b[0mengine\u001b[0m\u001b[0;34m)\u001b[0m\u001b[0;34m\u001b[0m\u001b[0;34m\u001b[0m\u001b[0m\n\u001b[0m\u001b[1;32m    820\u001b[0m \u001b[0;34m\u001b[0m\u001b[0m\n\u001b[1;32m    821\u001b[0m     \u001b[0;32mdef\u001b[0m \u001b[0mclose\u001b[0m\u001b[0;34m(\u001b[0m\u001b[0mself\u001b[0m\u001b[0;34m)\u001b[0m\u001b[0;34m:\u001b[0m\u001b[0;34m\u001b[0m\u001b[0;34m\u001b[0m\u001b[0m\n",
      "\u001b[0;32m~/opt/anaconda3/lib/python3.8/site-packages/pandas/io/parsers.py\u001b[0m in \u001b[0;36m_make_engine\u001b[0;34m(self, engine)\u001b[0m\n\u001b[1;32m   1048\u001b[0m             )\n\u001b[1;32m   1049\u001b[0m         \u001b[0;31m# error: Too many arguments for \"ParserBase\"\u001b[0m\u001b[0;34m\u001b[0m\u001b[0;34m\u001b[0m\u001b[0;34m\u001b[0m\u001b[0m\n\u001b[0;32m-> 1050\u001b[0;31m         \u001b[0;32mreturn\u001b[0m \u001b[0mmapping\u001b[0m\u001b[0;34m[\u001b[0m\u001b[0mengine\u001b[0m\u001b[0;34m]\u001b[0m\u001b[0;34m(\u001b[0m\u001b[0mself\u001b[0m\u001b[0;34m.\u001b[0m\u001b[0mf\u001b[0m\u001b[0;34m,\u001b[0m \u001b[0;34m**\u001b[0m\u001b[0mself\u001b[0m\u001b[0;34m.\u001b[0m\u001b[0moptions\u001b[0m\u001b[0;34m)\u001b[0m  \u001b[0;31m# type: ignore[call-arg]\u001b[0m\u001b[0;34m\u001b[0m\u001b[0;34m\u001b[0m\u001b[0m\n\u001b[0m\u001b[1;32m   1051\u001b[0m \u001b[0;34m\u001b[0m\u001b[0m\n\u001b[1;32m   1052\u001b[0m     \u001b[0;32mdef\u001b[0m \u001b[0m_failover_to_python\u001b[0m\u001b[0;34m(\u001b[0m\u001b[0mself\u001b[0m\u001b[0;34m)\u001b[0m\u001b[0;34m:\u001b[0m\u001b[0;34m\u001b[0m\u001b[0;34m\u001b[0m\u001b[0m\n",
      "\u001b[0;32m~/opt/anaconda3/lib/python3.8/site-packages/pandas/io/parsers.py\u001b[0m in \u001b[0;36m__init__\u001b[0;34m(self, src, **kwds)\u001b[0m\n\u001b[1;32m   1865\u001b[0m \u001b[0;34m\u001b[0m\u001b[0m\n\u001b[1;32m   1866\u001b[0m         \u001b[0;31m# open handles\u001b[0m\u001b[0;34m\u001b[0m\u001b[0;34m\u001b[0m\u001b[0;34m\u001b[0m\u001b[0m\n\u001b[0;32m-> 1867\u001b[0;31m         \u001b[0mself\u001b[0m\u001b[0;34m.\u001b[0m\u001b[0m_open_handles\u001b[0m\u001b[0;34m(\u001b[0m\u001b[0msrc\u001b[0m\u001b[0;34m,\u001b[0m \u001b[0mkwds\u001b[0m\u001b[0;34m)\u001b[0m\u001b[0;34m\u001b[0m\u001b[0;34m\u001b[0m\u001b[0m\n\u001b[0m\u001b[1;32m   1868\u001b[0m         \u001b[0;32massert\u001b[0m \u001b[0mself\u001b[0m\u001b[0;34m.\u001b[0m\u001b[0mhandles\u001b[0m \u001b[0;32mis\u001b[0m \u001b[0;32mnot\u001b[0m \u001b[0;32mNone\u001b[0m\u001b[0;34m\u001b[0m\u001b[0;34m\u001b[0m\u001b[0m\n\u001b[1;32m   1869\u001b[0m         \u001b[0;32mfor\u001b[0m \u001b[0mkey\u001b[0m \u001b[0;32min\u001b[0m \u001b[0;34m(\u001b[0m\u001b[0;34m\"storage_options\"\u001b[0m\u001b[0;34m,\u001b[0m \u001b[0;34m\"encoding\"\u001b[0m\u001b[0;34m,\u001b[0m \u001b[0;34m\"memory_map\"\u001b[0m\u001b[0;34m,\u001b[0m \u001b[0;34m\"compression\"\u001b[0m\u001b[0;34m)\u001b[0m\u001b[0;34m:\u001b[0m\u001b[0;34m\u001b[0m\u001b[0;34m\u001b[0m\u001b[0m\n",
      "\u001b[0;32m~/opt/anaconda3/lib/python3.8/site-packages/pandas/io/parsers.py\u001b[0m in \u001b[0;36m_open_handles\u001b[0;34m(self, src, kwds)\u001b[0m\n\u001b[1;32m   1360\u001b[0m         \u001b[0mLet\u001b[0m \u001b[0mthe\u001b[0m \u001b[0mreaders\u001b[0m \u001b[0mopen\u001b[0m \u001b[0mIOHanldes\u001b[0m \u001b[0mafter\u001b[0m \u001b[0mthey\u001b[0m \u001b[0mare\u001b[0m \u001b[0mdone\u001b[0m \u001b[0;32mwith\u001b[0m \u001b[0mtheir\u001b[0m \u001b[0mpotential\u001b[0m \u001b[0mraises\u001b[0m\u001b[0;34m.\u001b[0m\u001b[0;34m\u001b[0m\u001b[0;34m\u001b[0m\u001b[0m\n\u001b[1;32m   1361\u001b[0m         \"\"\"\n\u001b[0;32m-> 1362\u001b[0;31m         self.handles = get_handle(\n\u001b[0m\u001b[1;32m   1363\u001b[0m             \u001b[0msrc\u001b[0m\u001b[0;34m,\u001b[0m\u001b[0;34m\u001b[0m\u001b[0;34m\u001b[0m\u001b[0m\n\u001b[1;32m   1364\u001b[0m             \u001b[0;34m\"r\"\u001b[0m\u001b[0;34m,\u001b[0m\u001b[0;34m\u001b[0m\u001b[0;34m\u001b[0m\u001b[0m\n",
      "\u001b[0;32m~/opt/anaconda3/lib/python3.8/site-packages/pandas/io/common.py\u001b[0m in \u001b[0;36mget_handle\u001b[0;34m(path_or_buf, mode, encoding, compression, memory_map, is_text, errors, storage_options)\u001b[0m\n\u001b[1;32m    640\u001b[0m                 \u001b[0merrors\u001b[0m \u001b[0;34m=\u001b[0m \u001b[0;34m\"replace\"\u001b[0m\u001b[0;34m\u001b[0m\u001b[0;34m\u001b[0m\u001b[0m\n\u001b[1;32m    641\u001b[0m             \u001b[0;31m# Encoding\u001b[0m\u001b[0;34m\u001b[0m\u001b[0;34m\u001b[0m\u001b[0;34m\u001b[0m\u001b[0m\n\u001b[0;32m--> 642\u001b[0;31m             handle = open(\n\u001b[0m\u001b[1;32m    643\u001b[0m                 \u001b[0mhandle\u001b[0m\u001b[0;34m,\u001b[0m\u001b[0;34m\u001b[0m\u001b[0;34m\u001b[0m\u001b[0m\n\u001b[1;32m    644\u001b[0m                 \u001b[0mioargs\u001b[0m\u001b[0;34m.\u001b[0m\u001b[0mmode\u001b[0m\u001b[0;34m,\u001b[0m\u001b[0;34m\u001b[0m\u001b[0;34m\u001b[0m\u001b[0m\n",
      "\u001b[0;31mFileNotFoundError\u001b[0m: [Errno 2] No such file or directory: '/datasets/games.csv'"
     ]
    }
   ],
   "source": [
    "try:\n",
    "    df = pd.read_csv('/Users/anastasia/Desktop/games.csv')\n",
    "except FileNotFoundError:\n",
    "    df = pd.read_csv('/datasets/games.csv')"
   ]
  },
  {
   "cell_type": "code",
   "execution_count": 3,
   "id": "0164345c",
   "metadata": {},
   "outputs": [],
   "source": [
    "#приводим к нижнему регистру\n",
    "df.columns = df.columns.str.lower()"
   ]
  },
  {
   "cell_type": "markdown",
   "id": "5aa7f2ad",
   "metadata": {},
   "source": [
    "\n",
    "<div class=\"alert alert-success\">\n",
    "    \n",
    "<b> Комментарий от ревьюера</b>\n",
    "    \n",
    "Хорошее решение\n",
    "</div>\n"
   ]
  },
  {
   "cell_type": "code",
   "execution_count": 4,
   "id": "b2f55d58",
   "metadata": {},
   "outputs": [
    {
     "data": {
      "text/html": [
       "<div>\n",
       "<style scoped>\n",
       "    .dataframe tbody tr th:only-of-type {\n",
       "        vertical-align: middle;\n",
       "    }\n",
       "\n",
       "    .dataframe tbody tr th {\n",
       "        vertical-align: top;\n",
       "    }\n",
       "\n",
       "    .dataframe thead th {\n",
       "        text-align: right;\n",
       "    }\n",
       "</style>\n",
       "<table border=\"1\" class=\"dataframe\">\n",
       "  <thead>\n",
       "    <tr style=\"text-align: right;\">\n",
       "      <th></th>\n",
       "      <th>name</th>\n",
       "      <th>platform</th>\n",
       "      <th>year_of_release</th>\n",
       "      <th>genre</th>\n",
       "      <th>na_sales</th>\n",
       "      <th>eu_sales</th>\n",
       "      <th>jp_sales</th>\n",
       "      <th>other_sales</th>\n",
       "      <th>critic_score</th>\n",
       "      <th>user_score</th>\n",
       "      <th>rating</th>\n",
       "    </tr>\n",
       "  </thead>\n",
       "  <tbody>\n",
       "    <tr>\n",
       "      <td>0</td>\n",
       "      <td>Wii Sports</td>\n",
       "      <td>Wii</td>\n",
       "      <td>2006.0</td>\n",
       "      <td>Sports</td>\n",
       "      <td>41.36</td>\n",
       "      <td>28.96</td>\n",
       "      <td>3.77</td>\n",
       "      <td>8.45</td>\n",
       "      <td>76.0</td>\n",
       "      <td>8</td>\n",
       "      <td>E</td>\n",
       "    </tr>\n",
       "    <tr>\n",
       "      <td>1</td>\n",
       "      <td>Super Mario Bros.</td>\n",
       "      <td>NES</td>\n",
       "      <td>1985.0</td>\n",
       "      <td>Platform</td>\n",
       "      <td>29.08</td>\n",
       "      <td>3.58</td>\n",
       "      <td>6.81</td>\n",
       "      <td>0.77</td>\n",
       "      <td>NaN</td>\n",
       "      <td>NaN</td>\n",
       "      <td>NaN</td>\n",
       "    </tr>\n",
       "    <tr>\n",
       "      <td>2</td>\n",
       "      <td>Mario Kart Wii</td>\n",
       "      <td>Wii</td>\n",
       "      <td>2008.0</td>\n",
       "      <td>Racing</td>\n",
       "      <td>15.68</td>\n",
       "      <td>12.76</td>\n",
       "      <td>3.79</td>\n",
       "      <td>3.29</td>\n",
       "      <td>82.0</td>\n",
       "      <td>8.3</td>\n",
       "      <td>E</td>\n",
       "    </tr>\n",
       "    <tr>\n",
       "      <td>3</td>\n",
       "      <td>Wii Sports Resort</td>\n",
       "      <td>Wii</td>\n",
       "      <td>2009.0</td>\n",
       "      <td>Sports</td>\n",
       "      <td>15.61</td>\n",
       "      <td>10.93</td>\n",
       "      <td>3.28</td>\n",
       "      <td>2.95</td>\n",
       "      <td>80.0</td>\n",
       "      <td>8</td>\n",
       "      <td>E</td>\n",
       "    </tr>\n",
       "    <tr>\n",
       "      <td>4</td>\n",
       "      <td>Pokemon Red/Pokemon Blue</td>\n",
       "      <td>GB</td>\n",
       "      <td>1996.0</td>\n",
       "      <td>Role-Playing</td>\n",
       "      <td>11.27</td>\n",
       "      <td>8.89</td>\n",
       "      <td>10.22</td>\n",
       "      <td>1.00</td>\n",
       "      <td>NaN</td>\n",
       "      <td>NaN</td>\n",
       "      <td>NaN</td>\n",
       "    </tr>\n",
       "  </tbody>\n",
       "</table>\n",
       "</div>"
      ],
      "text/plain": [
       "                       name platform  year_of_release         genre  na_sales  \\\n",
       "0                Wii Sports      Wii           2006.0        Sports     41.36   \n",
       "1         Super Mario Bros.      NES           1985.0      Platform     29.08   \n",
       "2            Mario Kart Wii      Wii           2008.0        Racing     15.68   \n",
       "3         Wii Sports Resort      Wii           2009.0        Sports     15.61   \n",
       "4  Pokemon Red/Pokemon Blue       GB           1996.0  Role-Playing     11.27   \n",
       "\n",
       "   eu_sales  jp_sales  other_sales  critic_score user_score rating  \n",
       "0     28.96      3.77         8.45          76.0          8      E  \n",
       "1      3.58      6.81         0.77           NaN        NaN    NaN  \n",
       "2     12.76      3.79         3.29          82.0        8.3      E  \n",
       "3     10.93      3.28         2.95          80.0          8      E  \n",
       "4      8.89     10.22         1.00           NaN        NaN    NaN  "
      ]
     },
     "execution_count": 4,
     "metadata": {},
     "output_type": "execute_result"
    }
   ],
   "source": [
    "df.head()"
   ]
  },
  {
   "cell_type": "code",
   "execution_count": 5,
   "id": "b62e3017",
   "metadata": {},
   "outputs": [
    {
     "data": {
      "text/plain": [
       "Action          3369\n",
       "Sports          2348\n",
       "Misc            1750\n",
       "Role-Playing    1498\n",
       "Shooter         1323\n",
       "Adventure       1303\n",
       "Racing          1249\n",
       "Platform         888\n",
       "Simulation       873\n",
       "Fighting         849\n",
       "Strategy         683\n",
       "Puzzle           580\n",
       "Name: genre, dtype: int64"
      ]
     },
     "execution_count": 5,
     "metadata": {},
     "output_type": "execute_result"
    }
   ],
   "source": [
    "df['genre'].value_counts()"
   ]
  },
  {
   "cell_type": "code",
   "execution_count": 6,
   "id": "5d6ba388",
   "metadata": {},
   "outputs": [
    {
     "data": {
      "text/plain": [
       "name                  2\n",
       "platform              0\n",
       "year_of_release     269\n",
       "genre                 2\n",
       "na_sales              0\n",
       "eu_sales              0\n",
       "jp_sales              0\n",
       "other_sales           0\n",
       "critic_score       8578\n",
       "user_score         6701\n",
       "rating             6766\n",
       "dtype: int64"
      ]
     },
     "execution_count": 6,
     "metadata": {},
     "output_type": "execute_result"
    }
   ],
   "source": [
    "df.isna().sum()"
   ]
  },
  {
   "cell_type": "code",
   "execution_count": 7,
   "id": "0b43a80d",
   "metadata": {},
   "outputs": [
    {
     "name": "stdout",
     "output_type": "stream",
     "text": [
      "<class 'pandas.core.frame.DataFrame'>\n",
      "RangeIndex: 16715 entries, 0 to 16714\n",
      "Data columns (total 11 columns):\n",
      "name               16713 non-null object\n",
      "platform           16715 non-null object\n",
      "year_of_release    16446 non-null float64\n",
      "genre              16713 non-null object\n",
      "na_sales           16715 non-null float64\n",
      "eu_sales           16715 non-null float64\n",
      "jp_sales           16715 non-null float64\n",
      "other_sales        16715 non-null float64\n",
      "critic_score       8137 non-null float64\n",
      "user_score         10014 non-null object\n",
      "rating             9949 non-null object\n",
      "dtypes: float64(6), object(5)\n",
      "memory usage: 1.4+ MB\n"
     ]
    }
   ],
   "source": [
    "df.info()"
   ]
  },
  {
   "cell_type": "code",
   "execution_count": 8,
   "id": "cfbc837e",
   "metadata": {},
   "outputs": [
    {
     "data": {
      "text/html": [
       "<div>\n",
       "<style scoped>\n",
       "    .dataframe tbody tr th:only-of-type {\n",
       "        vertical-align: middle;\n",
       "    }\n",
       "\n",
       "    .dataframe tbody tr th {\n",
       "        vertical-align: top;\n",
       "    }\n",
       "\n",
       "    .dataframe thead th {\n",
       "        text-align: right;\n",
       "    }\n",
       "</style>\n",
       "<table border=\"1\" class=\"dataframe\">\n",
       "  <thead>\n",
       "    <tr style=\"text-align: right;\">\n",
       "      <th></th>\n",
       "      <th>year_of_release</th>\n",
       "      <th>na_sales</th>\n",
       "      <th>eu_sales</th>\n",
       "      <th>jp_sales</th>\n",
       "      <th>other_sales</th>\n",
       "      <th>critic_score</th>\n",
       "    </tr>\n",
       "  </thead>\n",
       "  <tbody>\n",
       "    <tr>\n",
       "      <td>count</td>\n",
       "      <td>16446.000000</td>\n",
       "      <td>16715.000000</td>\n",
       "      <td>16715.000000</td>\n",
       "      <td>16715.000000</td>\n",
       "      <td>16715.000000</td>\n",
       "      <td>8137.000000</td>\n",
       "    </tr>\n",
       "    <tr>\n",
       "      <td>mean</td>\n",
       "      <td>2006.484616</td>\n",
       "      <td>0.263377</td>\n",
       "      <td>0.145060</td>\n",
       "      <td>0.077617</td>\n",
       "      <td>0.047342</td>\n",
       "      <td>68.967679</td>\n",
       "    </tr>\n",
       "    <tr>\n",
       "      <td>std</td>\n",
       "      <td>5.877050</td>\n",
       "      <td>0.813604</td>\n",
       "      <td>0.503339</td>\n",
       "      <td>0.308853</td>\n",
       "      <td>0.186731</td>\n",
       "      <td>13.938165</td>\n",
       "    </tr>\n",
       "    <tr>\n",
       "      <td>min</td>\n",
       "      <td>1980.000000</td>\n",
       "      <td>0.000000</td>\n",
       "      <td>0.000000</td>\n",
       "      <td>0.000000</td>\n",
       "      <td>0.000000</td>\n",
       "      <td>13.000000</td>\n",
       "    </tr>\n",
       "    <tr>\n",
       "      <td>25%</td>\n",
       "      <td>2003.000000</td>\n",
       "      <td>0.000000</td>\n",
       "      <td>0.000000</td>\n",
       "      <td>0.000000</td>\n",
       "      <td>0.000000</td>\n",
       "      <td>60.000000</td>\n",
       "    </tr>\n",
       "    <tr>\n",
       "      <td>50%</td>\n",
       "      <td>2007.000000</td>\n",
       "      <td>0.080000</td>\n",
       "      <td>0.020000</td>\n",
       "      <td>0.000000</td>\n",
       "      <td>0.010000</td>\n",
       "      <td>71.000000</td>\n",
       "    </tr>\n",
       "    <tr>\n",
       "      <td>75%</td>\n",
       "      <td>2010.000000</td>\n",
       "      <td>0.240000</td>\n",
       "      <td>0.110000</td>\n",
       "      <td>0.040000</td>\n",
       "      <td>0.030000</td>\n",
       "      <td>79.000000</td>\n",
       "    </tr>\n",
       "    <tr>\n",
       "      <td>max</td>\n",
       "      <td>2016.000000</td>\n",
       "      <td>41.360000</td>\n",
       "      <td>28.960000</td>\n",
       "      <td>10.220000</td>\n",
       "      <td>10.570000</td>\n",
       "      <td>98.000000</td>\n",
       "    </tr>\n",
       "  </tbody>\n",
       "</table>\n",
       "</div>"
      ],
      "text/plain": [
       "       year_of_release      na_sales      eu_sales      jp_sales  \\\n",
       "count     16446.000000  16715.000000  16715.000000  16715.000000   \n",
       "mean       2006.484616      0.263377      0.145060      0.077617   \n",
       "std           5.877050      0.813604      0.503339      0.308853   \n",
       "min        1980.000000      0.000000      0.000000      0.000000   \n",
       "25%        2003.000000      0.000000      0.000000      0.000000   \n",
       "50%        2007.000000      0.080000      0.020000      0.000000   \n",
       "75%        2010.000000      0.240000      0.110000      0.040000   \n",
       "max        2016.000000     41.360000     28.960000     10.220000   \n",
       "\n",
       "        other_sales  critic_score  \n",
       "count  16715.000000   8137.000000  \n",
       "mean       0.047342     68.967679  \n",
       "std        0.186731     13.938165  \n",
       "min        0.000000     13.000000  \n",
       "25%        0.000000     60.000000  \n",
       "50%        0.010000     71.000000  \n",
       "75%        0.030000     79.000000  \n",
       "max       10.570000     98.000000  "
      ]
     },
     "execution_count": 8,
     "metadata": {},
     "output_type": "execute_result"
    }
   ],
   "source": [
    "df.describe()"
   ]
  },
  {
   "cell_type": "markdown",
   "id": "3473fbb2",
   "metadata": {},
   "source": [
    "Выводы:\n",
    "1. Первое, что бросается в глаза, это странный формат переменной year_of_release (год релиза);\n",
    "2. У нас есть пропуски, которые мы не можем никак заменить: год релиза, название игры и жанр; следовательно их необходимо удалить из выборки;\n",
    "3. Видим много пропусков, которые касаются рейтингов, причем большинство из них(пропусков) пропущены по всем оценкам сразу(критиков, пользователей, от организации).Однако любое заполнение подобных пропусков скорее всего сильно исказит результат, именно поэтому принято решение оставить эти столбцы без изменений;\n",
    "4. В переменной user_score обнаружено неизвестное значение \"tbd\"; единсвтенный вариант заменя данной переменной -это заменить ее пропуском или Nan;\n",
    "5. Также необходимо изменить тип данных в переменной user_score на тип данных float, чтобы была возможность проверить операции"
   ]
  },
  {
   "cell_type": "markdown",
   "id": "55f472d6",
   "metadata": {},
   "source": [
    "<div class=\"alert alert-success\">\n",
    "    \n",
    "<b> Комментарий от ревьюера</b>\n",
    "\n",
    "Ты права насчет пропусков, в year_of_release и name и их стоит удалить, потому что пропуски составляют малую долю данных. В оценках и рейтингах лучше не трогать, потому что можем исказить данные. \n",
    "    \n",
    "Насчет tbd и типов данных тоже все верно 👍\n",
    "    \n",
    "</div>"
   ]
  },
  {
   "cell_type": "code",
   "execution_count": 9,
   "id": "96d03749",
   "metadata": {},
   "outputs": [],
   "source": [
    "#удаляем пропуски в переменных\n",
    "df.dropna(subset =['year_of_release','name', 'genre'], inplace =True)"
   ]
  },
  {
   "cell_type": "code",
   "execution_count": 10,
   "id": "698944fe",
   "metadata": {
    "scrolled": true
   },
   "outputs": [
    {
     "data": {
      "text/plain": [
       "0        2006\n",
       "1        1985\n",
       "2        2008\n",
       "3        2009\n",
       "4        1996\n",
       "         ... \n",
       "16710    2016\n",
       "16711    2006\n",
       "16712    2016\n",
       "16713    2003\n",
       "16714    2016\n",
       "Name: year_of_release, Length: 16444, dtype: int64"
      ]
     },
     "execution_count": 10,
     "metadata": {},
     "output_type": "execute_result"
    }
   ],
   "source": [
    "#меняем тип переменной \n",
    "df['year_of_release'].astype('int')"
   ]
  },
  {
   "cell_type": "code",
   "execution_count": 11,
   "id": "154d9c21",
   "metadata": {},
   "outputs": [
    {
     "name": "stdout",
     "output_type": "stream",
     "text": [
      "<class 'pandas.core.frame.DataFrame'>\n",
      "Int64Index: 16444 entries, 0 to 16714\n",
      "Data columns (total 11 columns):\n",
      "name               16444 non-null object\n",
      "platform           16444 non-null object\n",
      "year_of_release    16444 non-null float64\n",
      "genre              16444 non-null object\n",
      "na_sales           16444 non-null float64\n",
      "eu_sales           16444 non-null float64\n",
      "jp_sales           16444 non-null float64\n",
      "other_sales        16444 non-null float64\n",
      "critic_score       7983 non-null float64\n",
      "user_score         7463 non-null float64\n",
      "rating             9768 non-null object\n",
      "dtypes: float64(7), object(4)\n",
      "memory usage: 1.5+ MB\n"
     ]
    }
   ],
   "source": [
    "#меняем тип переменной\n",
    "df.loc[df['user_score'] == 'tbd','user_score'] = np.nan\n",
    "df['user_score'] = df['user_score'].astype('float')\n",
    "df.info()"
   ]
  },
  {
   "cell_type": "markdown",
   "id": "08f688cf",
   "metadata": {},
   "source": [
    "<div class=\"alert alert-success\">\n",
    "    \n",
    "<b> Комментарий от ревьюера</b>\n",
    "    \n",
    "Тут можно было использовать метод to_numeric() с параметром errors='coerce', тогда все нечисловые значения сразу заменились на nan и не пришлось бы отдельно их обрабатывать, [документация](https://pandas.pydata.org/pandas-docs/stable/reference/api/pandas.to_numeric.html)\n",
    "</div>"
   ]
  },
  {
   "cell_type": "code",
   "execution_count": 12,
   "id": "cc03ea60",
   "metadata": {},
   "outputs": [
    {
     "data": {
      "text/html": [
       "<div>\n",
       "<style scoped>\n",
       "    .dataframe tbody tr th:only-of-type {\n",
       "        vertical-align: middle;\n",
       "    }\n",
       "\n",
       "    .dataframe tbody tr th {\n",
       "        vertical-align: top;\n",
       "    }\n",
       "\n",
       "    .dataframe thead th {\n",
       "        text-align: right;\n",
       "    }\n",
       "</style>\n",
       "<table border=\"1\" class=\"dataframe\">\n",
       "  <thead>\n",
       "    <tr style=\"text-align: right;\">\n",
       "      <th></th>\n",
       "      <th>name</th>\n",
       "      <th>platform</th>\n",
       "      <th>year_of_release</th>\n",
       "      <th>genre</th>\n",
       "      <th>na_sales</th>\n",
       "      <th>eu_sales</th>\n",
       "      <th>jp_sales</th>\n",
       "      <th>other_sales</th>\n",
       "      <th>critic_score</th>\n",
       "      <th>user_score</th>\n",
       "      <th>rating</th>\n",
       "    </tr>\n",
       "  </thead>\n",
       "  <tbody>\n",
       "    <tr>\n",
       "      <td>0</td>\n",
       "      <td>Wii Sports</td>\n",
       "      <td>Wii</td>\n",
       "      <td>2006.0</td>\n",
       "      <td>Sports</td>\n",
       "      <td>41.36</td>\n",
       "      <td>28.96</td>\n",
       "      <td>3.77</td>\n",
       "      <td>8.45</td>\n",
       "      <td>76.0</td>\n",
       "      <td>8.0</td>\n",
       "      <td>E</td>\n",
       "    </tr>\n",
       "    <tr>\n",
       "      <td>1</td>\n",
       "      <td>Super Mario Bros.</td>\n",
       "      <td>NES</td>\n",
       "      <td>1985.0</td>\n",
       "      <td>Platform</td>\n",
       "      <td>29.08</td>\n",
       "      <td>3.58</td>\n",
       "      <td>6.81</td>\n",
       "      <td>0.77</td>\n",
       "      <td>NaN</td>\n",
       "      <td>NaN</td>\n",
       "      <td>NaN</td>\n",
       "    </tr>\n",
       "    <tr>\n",
       "      <td>2</td>\n",
       "      <td>Mario Kart Wii</td>\n",
       "      <td>Wii</td>\n",
       "      <td>2008.0</td>\n",
       "      <td>Racing</td>\n",
       "      <td>15.68</td>\n",
       "      <td>12.76</td>\n",
       "      <td>3.79</td>\n",
       "      <td>3.29</td>\n",
       "      <td>82.0</td>\n",
       "      <td>8.3</td>\n",
       "      <td>E</td>\n",
       "    </tr>\n",
       "    <tr>\n",
       "      <td>3</td>\n",
       "      <td>Wii Sports Resort</td>\n",
       "      <td>Wii</td>\n",
       "      <td>2009.0</td>\n",
       "      <td>Sports</td>\n",
       "      <td>15.61</td>\n",
       "      <td>10.93</td>\n",
       "      <td>3.28</td>\n",
       "      <td>2.95</td>\n",
       "      <td>80.0</td>\n",
       "      <td>8.0</td>\n",
       "      <td>E</td>\n",
       "    </tr>\n",
       "    <tr>\n",
       "      <td>4</td>\n",
       "      <td>Pokemon Red/Pokemon Blue</td>\n",
       "      <td>GB</td>\n",
       "      <td>1996.0</td>\n",
       "      <td>Role-Playing</td>\n",
       "      <td>11.27</td>\n",
       "      <td>8.89</td>\n",
       "      <td>10.22</td>\n",
       "      <td>1.00</td>\n",
       "      <td>NaN</td>\n",
       "      <td>NaN</td>\n",
       "      <td>NaN</td>\n",
       "    </tr>\n",
       "  </tbody>\n",
       "</table>\n",
       "</div>"
      ],
      "text/plain": [
       "                       name platform  year_of_release         genre  na_sales  \\\n",
       "0                Wii Sports      Wii           2006.0        Sports     41.36   \n",
       "1         Super Mario Bros.      NES           1985.0      Platform     29.08   \n",
       "2            Mario Kart Wii      Wii           2008.0        Racing     15.68   \n",
       "3         Wii Sports Resort      Wii           2009.0        Sports     15.61   \n",
       "4  Pokemon Red/Pokemon Blue       GB           1996.0  Role-Playing     11.27   \n",
       "\n",
       "   eu_sales  jp_sales  other_sales  critic_score  user_score rating  \n",
       "0     28.96      3.77         8.45          76.0         8.0      E  \n",
       "1      3.58      6.81         0.77           NaN         NaN    NaN  \n",
       "2     12.76      3.79         3.29          82.0         8.3      E  \n",
       "3     10.93      3.28         2.95          80.0         8.0      E  \n",
       "4      8.89     10.22         1.00           NaN         NaN    NaN  "
      ]
     },
     "execution_count": 12,
     "metadata": {},
     "output_type": "execute_result"
    }
   ],
   "source": [
    "df.head()"
   ]
  },
  {
   "cell_type": "code",
   "execution_count": 13,
   "id": "e13c4d4a",
   "metadata": {},
   "outputs": [
    {
     "name": "stdout",
     "output_type": "stream",
     "text": [
      "<class 'pandas.core.frame.DataFrame'>\n",
      "Int64Index: 16444 entries, 0 to 16714\n",
      "Data columns (total 11 columns):\n",
      "name               16444 non-null object\n",
      "platform           16444 non-null object\n",
      "year_of_release    16444 non-null float64\n",
      "genre              16444 non-null object\n",
      "na_sales           16444 non-null float64\n",
      "eu_sales           16444 non-null float64\n",
      "jp_sales           16444 non-null float64\n",
      "other_sales        16444 non-null float64\n",
      "critic_score       7983 non-null float64\n",
      "user_score         7463 non-null float64\n",
      "rating             9768 non-null object\n",
      "dtypes: float64(7), object(4)\n",
      "memory usage: 1.5+ MB\n"
     ]
    }
   ],
   "source": [
    "df.info()"
   ]
  },
  {
   "cell_type": "code",
   "execution_count": 14,
   "id": "d18c010d",
   "metadata": {},
   "outputs": [],
   "source": [
    "#найдем суммарные продаже во всех регионах\n",
    "df['total_sales'] = df['na_sales'] + df['eu_sales'] + df['jp_sales'] + df['other_sales']"
   ]
  },
  {
   "cell_type": "markdown",
   "id": "10a0bc09",
   "metadata": {},
   "source": [
    "## Исследовательский анализ"
   ]
  },
  {
   "cell_type": "markdown",
   "id": "ab2d32d9",
   "metadata": {},
   "source": [
    "#### Количество выпущенных игр по годам"
   ]
  },
  {
   "cell_type": "code",
   "execution_count": 15,
   "id": "df0447f4",
   "metadata": {},
   "outputs": [
    {
     "data": {
      "text/plain": [
       "<matplotlib.axes._subplots.AxesSubplot at 0x7f44b1f26150>"
      ]
     },
     "execution_count": 15,
     "metadata": {},
     "output_type": "execute_result"
    },
    {
     "data": {
      "image/png": "[encoded data removed]",
      "text/plain": [
       "<Figure size 432x288 with 1 Axes>"
      ]
     },
     "metadata": {
      "needs_background": "light"
     },
     "output_type": "display_data"
    }
   ],
   "source": [
    "#посмотрим сколько игр выпускалось каждый год\n",
    "pivot_year = df.pivot_table(index = 'year_of_release', values = 'name', aggfunc = 'count')\n",
    "pivot_year.plot()"
   ]
  },
  {
   "cell_type": "markdown",
   "id": "c1347079",
   "metadata": {},
   "source": [
    "Сразу можем отметить, что выпуск игр с каждым годом растет в геометрической прогрессии, но так происходит до 2012 года, в последующией 5 лет количество игр сильно уменьшается. Видим очень большой разброс значений; максимальные значения достигаются в 2008 и 2009 годах.  Мы обнаруживвем много низких значений до 1990 года, но пока оставим первоначальную выборку."
   ]
  },
  {
   "cell_type": "markdown",
   "id": "77838c72",
   "metadata": {},
   "source": [
    "####  Продажи по платформам"
   ]
  },
  {
   "cell_type": "code",
   "execution_count": 16,
   "id": "6cb0c6bb",
   "metadata": {},
   "outputs": [
    {
     "data": {
      "text/html": [
       "<div>\n",
       "<style scoped>\n",
       "    .dataframe tbody tr th:only-of-type {\n",
       "        vertical-align: middle;\n",
       "    }\n",
       "\n",
       "    .dataframe tbody tr th {\n",
       "        vertical-align: top;\n",
       "    }\n",
       "\n",
       "    .dataframe thead th {\n",
       "        text-align: right;\n",
       "    }\n",
       "</style>\n",
       "<table border=\"1\" class=\"dataframe\">\n",
       "  <thead>\n",
       "    <tr style=\"text-align: right;\">\n",
       "      <th></th>\n",
       "      <th>total_sales</th>\n",
       "    </tr>\n",
       "    <tr>\n",
       "      <th>year_of_release</th>\n",
       "      <th></th>\n",
       "    </tr>\n",
       "  </thead>\n",
       "  <tbody>\n",
       "    <tr>\n",
       "      <td>2008.0</td>\n",
       "      <td>671.50</td>\n",
       "    </tr>\n",
       "    <tr>\n",
       "      <td>2009.0</td>\n",
       "      <td>658.82</td>\n",
       "    </tr>\n",
       "    <tr>\n",
       "      <td>2007.0</td>\n",
       "      <td>604.75</td>\n",
       "    </tr>\n",
       "    <tr>\n",
       "      <td>2010.0</td>\n",
       "      <td>590.13</td>\n",
       "    </tr>\n",
       "    <tr>\n",
       "      <td>2006.0</td>\n",
       "      <td>517.71</td>\n",
       "    </tr>\n",
       "    <tr>\n",
       "      <td>2011.0</td>\n",
       "      <td>507.58</td>\n",
       "    </tr>\n",
       "    <tr>\n",
       "      <td>2005.0</td>\n",
       "      <td>457.82</td>\n",
       "    </tr>\n",
       "    <tr>\n",
       "      <td>2004.0</td>\n",
       "      <td>418.68</td>\n",
       "    </tr>\n",
       "    <tr>\n",
       "      <td>2002.0</td>\n",
       "      <td>394.97</td>\n",
       "    </tr>\n",
       "    <tr>\n",
       "      <td>2013.0</td>\n",
       "      <td>361.24</td>\n",
       "    </tr>\n",
       "    <tr>\n",
       "      <td>2003.0</td>\n",
       "      <td>357.54</td>\n",
       "    </tr>\n",
       "    <tr>\n",
       "      <td>2012.0</td>\n",
       "      <td>355.84</td>\n",
       "    </tr>\n",
       "    <tr>\n",
       "      <td>2014.0</td>\n",
       "      <td>331.53</td>\n",
       "    </tr>\n",
       "    <tr>\n",
       "      <td>2001.0</td>\n",
       "      <td>331.46</td>\n",
       "    </tr>\n",
       "    <tr>\n",
       "      <td>2015.0</td>\n",
       "      <td>267.98</td>\n",
       "    </tr>\n",
       "    <tr>\n",
       "      <td>1998.0</td>\n",
       "      <td>256.31</td>\n",
       "    </tr>\n",
       "    <tr>\n",
       "      <td>1999.0</td>\n",
       "      <td>251.11</td>\n",
       "    </tr>\n",
       "    <tr>\n",
       "      <td>2000.0</td>\n",
       "      <td>201.66</td>\n",
       "    </tr>\n",
       "    <tr>\n",
       "      <td>1997.0</td>\n",
       "      <td>201.07</td>\n",
       "    </tr>\n",
       "    <tr>\n",
       "      <td>1996.0</td>\n",
       "      <td>199.15</td>\n",
       "    </tr>\n",
       "    <tr>\n",
       "      <td>2016.0</td>\n",
       "      <td>129.94</td>\n",
       "    </tr>\n",
       "    <tr>\n",
       "      <td>1995.0</td>\n",
       "      <td>88.12</td>\n",
       "    </tr>\n",
       "    <tr>\n",
       "      <td>1994.0</td>\n",
       "      <td>79.23</td>\n",
       "    </tr>\n",
       "    <tr>\n",
       "      <td>1992.0</td>\n",
       "      <td>76.16</td>\n",
       "    </tr>\n",
       "    <tr>\n",
       "      <td>1989.0</td>\n",
       "      <td>73.45</td>\n",
       "    </tr>\n",
       "    <tr>\n",
       "      <td>1985.0</td>\n",
       "      <td>53.95</td>\n",
       "    </tr>\n",
       "    <tr>\n",
       "      <td>1984.0</td>\n",
       "      <td>50.35</td>\n",
       "    </tr>\n",
       "    <tr>\n",
       "      <td>1990.0</td>\n",
       "      <td>49.37</td>\n",
       "    </tr>\n",
       "    <tr>\n",
       "      <td>1988.0</td>\n",
       "      <td>47.21</td>\n",
       "    </tr>\n",
       "    <tr>\n",
       "      <td>1993.0</td>\n",
       "      <td>45.99</td>\n",
       "    </tr>\n",
       "    <tr>\n",
       "      <td>1986.0</td>\n",
       "      <td>37.08</td>\n",
       "    </tr>\n",
       "    <tr>\n",
       "      <td>1981.0</td>\n",
       "      <td>35.68</td>\n",
       "    </tr>\n",
       "    <tr>\n",
       "      <td>1991.0</td>\n",
       "      <td>32.23</td>\n",
       "    </tr>\n",
       "    <tr>\n",
       "      <td>1982.0</td>\n",
       "      <td>28.88</td>\n",
       "    </tr>\n",
       "    <tr>\n",
       "      <td>1987.0</td>\n",
       "      <td>21.70</td>\n",
       "    </tr>\n",
       "    <tr>\n",
       "      <td>1983.0</td>\n",
       "      <td>16.80</td>\n",
       "    </tr>\n",
       "    <tr>\n",
       "      <td>1980.0</td>\n",
       "      <td>11.38</td>\n",
       "    </tr>\n",
       "  </tbody>\n",
       "</table>\n",
       "</div>"
      ],
      "text/plain": [
       "                 total_sales\n",
       "year_of_release             \n",
       "2008.0                671.50\n",
       "2009.0                658.82\n",
       "2007.0                604.75\n",
       "2010.0                590.13\n",
       "2006.0                517.71\n",
       "2011.0                507.58\n",
       "2005.0                457.82\n",
       "2004.0                418.68\n",
       "2002.0                394.97\n",
       "2013.0                361.24\n",
       "2003.0                357.54\n",
       "2012.0                355.84\n",
       "2014.0                331.53\n",
       "2001.0                331.46\n",
       "2015.0                267.98\n",
       "1998.0                256.31\n",
       "1999.0                251.11\n",
       "2000.0                201.66\n",
       "1997.0                201.07\n",
       "1996.0                199.15\n",
       "2016.0                129.94\n",
       "1995.0                 88.12\n",
       "1994.0                 79.23\n",
       "1992.0                 76.16\n",
       "1989.0                 73.45\n",
       "1985.0                 53.95\n",
       "1984.0                 50.35\n",
       "1990.0                 49.37\n",
       "1988.0                 47.21\n",
       "1993.0                 45.99\n",
       "1986.0                 37.08\n",
       "1981.0                 35.68\n",
       "1991.0                 32.23\n",
       "1982.0                 28.88\n",
       "1987.0                 21.70\n",
       "1983.0                 16.80\n",
       "1980.0                 11.38"
      ]
     },
     "execution_count": 16,
     "metadata": {},
     "output_type": "execute_result"
    }
   ],
   "source": [
    "df.pivot_table(index = 'year_of_release', values = 'total_sales', aggfunc = 'sum').sort_values(by = 'total_sales',ascending = False)"
   ]
  },
  {
   "cell_type": "code",
   "execution_count": 17,
   "id": "41c19a15",
   "metadata": {},
   "outputs": [
    {
     "data": {
      "text/html": [
       "<div>\n",
       "<style scoped>\n",
       "    .dataframe tbody tr th:only-of-type {\n",
       "        vertical-align: middle;\n",
       "    }\n",
       "\n",
       "    .dataframe tbody tr th {\n",
       "        vertical-align: top;\n",
       "    }\n",
       "\n",
       "    .dataframe thead th {\n",
       "        text-align: right;\n",
       "    }\n",
       "</style>\n",
       "<table border=\"1\" class=\"dataframe\">\n",
       "  <thead>\n",
       "    <tr style=\"text-align: right;\">\n",
       "      <th></th>\n",
       "      <th>total_sales</th>\n",
       "    </tr>\n",
       "    <tr>\n",
       "      <th>platform</th>\n",
       "      <th></th>\n",
       "    </tr>\n",
       "  </thead>\n",
       "  <tbody>\n",
       "    <tr>\n",
       "      <td>PS2</td>\n",
       "      <td>1233.56</td>\n",
       "    </tr>\n",
       "    <tr>\n",
       "      <td>X360</td>\n",
       "      <td>961.24</td>\n",
       "    </tr>\n",
       "    <tr>\n",
       "      <td>PS3</td>\n",
       "      <td>931.34</td>\n",
       "    </tr>\n",
       "    <tr>\n",
       "      <td>Wii</td>\n",
       "      <td>891.18</td>\n",
       "    </tr>\n",
       "    <tr>\n",
       "      <td>DS</td>\n",
       "      <td>802.78</td>\n",
       "    </tr>\n",
       "    <tr>\n",
       "      <td>PS</td>\n",
       "      <td>727.58</td>\n",
       "    </tr>\n",
       "    <tr>\n",
       "      <td>PS4</td>\n",
       "      <td>314.14</td>\n",
       "    </tr>\n",
       "  </tbody>\n",
       "</table>\n",
       "</div>"
      ],
      "text/plain": [
       "          total_sales\n",
       "platform             \n",
       "PS2           1233.56\n",
       "X360           961.24\n",
       "PS3            931.34\n",
       "Wii            891.18\n",
       "DS             802.78\n",
       "PS             727.58\n",
       "PS4            314.14"
      ]
     },
     "execution_count": 17,
     "metadata": {},
     "output_type": "execute_result"
    }
   ],
   "source": [
    "#выявляем самые прибыльные платформы по количествам продаж\n",
    "df.pivot_table(index = 'platform', values = 'total_sales', aggfunc = 'sum').sort_values(by = 'total_sales',ascending = False).head(7)"
   ]
  },
  {
   "cell_type": "markdown",
   "id": "82472373",
   "metadata": {},
   "source": [
    "Мы можем выявить топ-5 платформ по продажам по всему миру: \n",
    "1. PS2\n",
    "2. X360\n",
    "3. PS3\n",
    "4. Wii\n",
    "5. DS"
   ]
  },
  {
   "cell_type": "markdown",
   "id": "aee3eb31",
   "metadata": {},
   "source": [
    "Нет необходимости рассматривать топ 5 платформа до 2000 года, поскольку значения до этого года есть только у одной платформы и в 1985 года(количество продаж там очень мало). Следовательно мы срежем значения от 2000 года."
   ]
  },
  {
   "cell_type": "code",
   "execution_count": 18,
   "id": "12c031b7",
   "metadata": {},
   "outputs": [],
   "source": [
    "df = df.query('year_of_release > 1999')"
   ]
  },
  {
   "cell_type": "code",
   "execution_count": 19,
   "id": "4b7b2fa9",
   "metadata": {},
   "outputs": [],
   "source": [
    "#df_top5 = df.query('platform in (\"PS2\",\"X360\", \"PS3\", \"Wii\", \"DS\")')\n",
    "#pivot_top5 = df_top5.pivot_table(index = 'year_of_release',columns = 'platform', values = 'total_sales', aggfunc = 'sum')\n",
    "#pivot_top5"
   ]
  },
  {
   "cell_type": "code",
   "execution_count": 20,
   "id": "99e3faf1",
   "metadata": {},
   "outputs": [],
   "source": [
    "#pivot_top5.plot(grid = True, title = 'Распределение продаж по платформа и по годам')"
   ]
  },
  {
   "cell_type": "markdown",
   "id": "4249e5cb",
   "metadata": {},
   "source": [
    " 1. До 2004 года существовала всего лишь одна платформа (PS2);в нашей выборке она занимает лидирующую позицию по суммарным продажам; однако уже к 2012 году мы не наблюдаем этой платформы на рынке; поскольку мы не рассматриваем продажи платформ до 2000 года, то нельзя точно сказать длительность \"жизни\" данной платформы, но по данной выборке данный показатель составил 12 лет;\n",
    " 2. С 2004 года начинает функционировать платформа DS; можем отметить, что она достаточно быстро начала разваиться и уже за год сильно подняла свои продажи; ее средняя продолжительность жизни составляет 10 лет;\n",
    " 3. с 2005 года на рынок выходит платформа X360; развитие данной платформы нельзя нзвать стремительным, было бы лучше описать развитие как постепенное, но мы видим, что в 2016 году данная платформа сильно потеряла и в конечном итоге, вероятнее всего, ушла с рынка в ближашие два года(2017/2018; предполягаем, что средняя продолжительность жизни данной компании составляет 13-14 лет;\n",
    " 4. С 2006 года на рынке появляются еще две компании (PS3 и Wii); мы можем отметить стремительный рост компании Wii, даже более того, в год старта она собрала достаточно крупное число продаж для начала; развитие PS3 происходило немного медленее, но тем не менее достигло значительного кол-ва продаж; компания Wii лидирует в нашей выборке по количеству продаж(в годовом исчислении в 2009 году); несмотря на быстрый подъем Wii мы видим, что в 2016 году продажи находятся на минимальном уровне и вскоре приведут к банкротству, аналогичная ситуация и со второй компании, но ее показатели на 2016 год, возможно, позволят продержаться на плаву чуть больше; в среднем продолжительность деятельности данных платформ составляет 12-14 лет."
   ]
  },
  {
   "cell_type": "markdown",
   "id": "f2cc7c6a",
   "metadata": {},
   "source": [
    "<div class=\"alert alert-warning\">\n",
    "    \n",
    "<b> Комментарий от ревьюера</b>\n",
    "    \n",
    "10-14 лет — это, конечно, очень оптимистичный прогноз. Может быть стоит дополнительно проанализировать срок жизни. Можно, например, сгурппировать данные по платформам и посчитать количество уникальных значений в признаке year_of_release, чтобы узнать сколько лет на платформу выходили игры\n",
    "</div>\n"
   ]
  },
  {
   "cell_type": "code",
   "execution_count": 24,
   "id": "0acc1865",
   "metadata": {},
   "outputs": [
    {
     "data": {
      "text/plain": [
       "platform\n",
       "3DS      6\n",
       "DC       5\n",
       "DS      10\n",
       "GB       2\n",
       "GBA      8\n",
       "GC       7\n",
       "N64      3\n",
       "PC      17\n",
       "PS       4\n",
       "PS2     12\n",
       "PS3     11\n",
       "PS4      4\n",
       "PSP     12\n",
       "PSV      6\n",
       "WS       2\n",
       "Wii     11\n",
       "WiiU     5\n",
       "X360    12\n",
       "XB       9\n",
       "XOne     4\n",
       "Name: year_of_release, dtype: int64"
      ]
     },
     "execution_count": 24,
     "metadata": {},
     "output_type": "execute_result"
    }
   ],
   "source": [
    "df.groupby('platform')['year_of_release'].nunique()"
   ]
  },
  {
   "cell_type": "markdown",
   "id": "89460c17",
   "metadata": {},
   "source": [
    "<div class=\"alert alert-info\">\n",
    "<h2> Комментарий студента 1</h2>\n",
    "\n",
    "Сделала разбивку. Получается, что средняя продолжительность жизни платформ составляет 6-8 лет, в лучшем случае это 10 и выше.\n",
    "</div>"
   ]
  },
  {
   "cell_type": "markdown",
   "id": "d0d0dc5f",
   "metadata": {},
   "source": [
    "<div class=\"alert alert-success\">\n",
    "    \n",
    "<b> Комментарий от ревьюера 2</b>\n",
    "\n",
    "Все верно. Можно посчитать количество уникальных значений в year_of_release так:  \n",
    "`df.groupby('platform')['year_of_release'].nunique()`\n",
    "\n",
    "</div>\n"
   ]
  },
  {
   "cell_type": "markdown",
   "id": "0e367d67",
   "metadata": {},
   "source": [
    "Теперь перейдем к актуальному периоду. Нам кажется, что наиболее предпочтительным будет период с 2006 по 2016 года, поскольку именно с 2006 года начинают функционировать все топ-5 платформ(11 летнего периода должно быть достаточно для построения прогноза). "
   ]
  },
  {
   "cell_type": "code",
   "execution_count": 25,
   "id": "14254dc0",
   "metadata": {},
   "outputs": [
    {
     "data": {
      "text/plain": [
       "<matplotlib.axes._subplots.AxesSubplot at 0x7f44a8628cd0>"
      ]
     },
     "execution_count": 25,
     "metadata": {},
     "output_type": "execute_result"
    },
    {
     "data": {
      "image/png": "[encoded data removed]",
      "text/plain": [
       "<Figure size 432x288 with 1 Axes>"
      ]
     },
     "metadata": {
      "needs_background": "light"
     },
     "output_type": "display_data"
    }
   ],
   "source": [
    "df.pivot_table(index = 'year_of_release',columns = 'platform', values = 'total_sales', aggfunc = 'sum').plot()"
   ]
  },
  {
   "cell_type": "markdown",
   "id": "1219fcf2",
   "metadata": {},
   "source": [
    "<div class=\"alert alert-danger\">\n",
    "    \n",
    "<b> Комментарий от ревьюера</b>\n",
    "    \n",
    "Нужно изменить актуальный период.\n",
    "\n",
    "Если мы будем рассматривать данные с 2006 по 2016 гг, то захватим период смены тренда на рынке видеоигр, плюс мы видим по графику выше, что многие платформы за это время успели потерять свою популярность.\n",
    "\n",
    "Еще подумай, пожалуйста, о жизненном цикле продукта, через сколько лет после релиза у платформ наступает пик продаж? Будет здорово, если в актуальный период не попадут старые тренды, которые могут негативно повлиять на наши рекомендации.\n",
    "\n",
    "___\n",
    "    \n",
    "> ... поскольку именно с 2006 года начинают функционировать все топ-5 платформ ...\n",
    "    \n",
    "Там почти всем платформам на смену уже пришло новое поколение PS3 -> PS4, X360 -> XOne, Wii -> WiiU\n",
    "    \n",
    "Высокие продажи по устаревшим платформам наоборот будут портить наш прогноз.\n",
    "    \n",
    "</div>"
   ]
  },
  {
   "cell_type": "markdown",
   "id": "4a5fe7f2",
   "metadata": {},
   "source": [
    "<div class=\"alert alert-info\">\n",
    "<h2> Комментарий студента</h2>\n",
    "\n",
    "согласна с замечанием по поводу актуального периода. Почему-то рассматривала только относительно топ 5, а не относительно всех платформа. Пик продаж у каждой платформы наступает по-разному, но приблительно я бы в среднем округлила до 2-3-х лет после релиза. В качестве актулаьного периода сейчас я бы выбрала 2011-2016 года. \n",
    "</div>\n"
   ]
  },
  {
   "cell_type": "markdown",
   "id": "bc7f93e3",
   "metadata": {},
   "source": [
    "<div class=\"alert alert-success\">\n",
    "    \n",
    "<b> Комментарий от ревьюера 2</b>\n",
    "\n",
    "Молодец, что уменьшила актуальный период 👍\n",
    "\n",
    "</div>"
   ]
  },
  {
   "cell_type": "code",
   "execution_count": 26,
   "id": "74ac880e",
   "metadata": {},
   "outputs": [
    {
     "data": {
      "text/html": [
       "<div>\n",
       "<style scoped>\n",
       "    .dataframe tbody tr th:only-of-type {\n",
       "        vertical-align: middle;\n",
       "    }\n",
       "\n",
       "    .dataframe tbody tr th {\n",
       "        vertical-align: top;\n",
       "    }\n",
       "\n",
       "    .dataframe thead th {\n",
       "        text-align: right;\n",
       "    }\n",
       "</style>\n",
       "<table border=\"1\" class=\"dataframe\">\n",
       "  <thead>\n",
       "    <tr style=\"text-align: right;\">\n",
       "      <th></th>\n",
       "      <th>total_sales</th>\n",
       "    </tr>\n",
       "    <tr>\n",
       "      <th>platform</th>\n",
       "      <th></th>\n",
       "    </tr>\n",
       "  </thead>\n",
       "  <tbody>\n",
       "    <tr>\n",
       "      <td>PS4</td>\n",
       "      <td>314.14</td>\n",
       "    </tr>\n",
       "    <tr>\n",
       "      <td>PS3</td>\n",
       "      <td>288.79</td>\n",
       "    </tr>\n",
       "    <tr>\n",
       "      <td>X360</td>\n",
       "      <td>236.54</td>\n",
       "    </tr>\n",
       "    <tr>\n",
       "      <td>3DS</td>\n",
       "      <td>194.61</td>\n",
       "    </tr>\n",
       "    <tr>\n",
       "      <td>XOne</td>\n",
       "      <td>159.32</td>\n",
       "    </tr>\n",
       "    <tr>\n",
       "      <td>WiiU</td>\n",
       "      <td>82.19</td>\n",
       "    </tr>\n",
       "    <tr>\n",
       "      <td>PC</td>\n",
       "      <td>62.65</td>\n",
       "    </tr>\n",
       "    <tr>\n",
       "      <td>PSV</td>\n",
       "      <td>49.18</td>\n",
       "    </tr>\n",
       "    <tr>\n",
       "      <td>Wii</td>\n",
       "      <td>35.37</td>\n",
       "    </tr>\n",
       "    <tr>\n",
       "      <td>DS</td>\n",
       "      <td>12.55</td>\n",
       "    </tr>\n",
       "    <tr>\n",
       "      <td>PSP</td>\n",
       "      <td>11.19</td>\n",
       "    </tr>\n",
       "  </tbody>\n",
       "</table>\n",
       "</div>"
      ],
      "text/plain": [
       "          total_sales\n",
       "platform             \n",
       "PS4            314.14\n",
       "PS3            288.79\n",
       "X360           236.54\n",
       "3DS            194.61\n",
       "XOne           159.32\n",
       "WiiU            82.19\n",
       "PC              62.65\n",
       "PSV             49.18\n",
       "Wii             35.37\n",
       "DS              12.55\n",
       "PSP             11.19"
      ]
     },
     "execution_count": 26,
     "metadata": {},
     "output_type": "execute_result"
    }
   ],
   "source": [
    "df = df.query('year_of_release > 2011')\n",
    "df.pivot_table(index = 'platform', values = 'total_sales', aggfunc = 'sum').sort_values(by = 'total_sales',ascending = False)"
   ]
  },
  {
   "cell_type": "code",
   "execution_count": 27,
   "id": "a2e88873",
   "metadata": {},
   "outputs": [
    {
     "data": {
      "text/plain": [
       "<matplotlib.axes._subplots.AxesSubplot at 0x7f44a84b4bd0>"
      ]
     },
     "execution_count": 27,
     "metadata": {},
     "output_type": "execute_result"
    },
    {
     "data": {
      "image/png": "[encoded data removed]",
      "text/plain": [
       "<Figure size 432x288 with 1 Axes>"
      ]
     },
     "metadata": {
      "needs_background": "light"
     },
     "output_type": "display_data"
    }
   ],
   "source": [
    "df_top5 = df.query('platform in (\"PS4\",\"X360\", \"PS3\", \"XOne\", \"3DS\")')\n",
    "pivot_top5 = df_top5.pivot_table(index = 'year_of_release',columns = 'platform', values = 'total_sales', aggfunc = 'sum')\n",
    "pivot_top5.plot(grid = True, title = 'Распределение продаж по платформа и по годам')"
   ]
  },
  {
   "cell_type": "markdown",
   "id": "cad02947",
   "metadata": {},
   "source": [
    "Мы можем выявить топ-5 платформ по продажам по всему миру: \n",
    "1. PS4\n",
    "2. X360\n",
    "3. PS3\n",
    "4. XOne\n",
    "5. 3DS"
   ]
  },
  {
   "cell_type": "markdown",
   "id": "01bdcdaa",
   "metadata": {},
   "source": [
    "1. В актуальный период мы наблюдаем нисходящий тренд по платформам, которые уже есть на рынке и восходящий тренд у новых платформ;\n",
    "2. Компания PS4 занимают лидирубщую позицию по общим продажам; она появилась только в 2013 годуи за 2 года уже смогла получить продажи больше всех за 6 летний период; однако после достижения пика, продажи платформы стремительно пошли на убыль;\n",
    "3. Второе мето занимает компания PS3, чьи продажи постепенно снижаются и в 2016 году находятся практически около нуля;\n",
    "4. Третье место занимает компания X360; она достаточно давно находится на рынке, но в данный период находится в увядающем состоянии;\n",
    "5. XOne аналогично первой платформе начала функционировать в 2013 году, но получила значительно меньшую популярность; пик популярности также приходится на 2015 год, но ее показатели практически в два раза ниже чем PS4;\n",
    "6. Компания 3DS демонстрирует аналогичную всем уже существовашим компанию нисходящую тенденцию."
   ]
  },
  {
   "cell_type": "code",
   "execution_count": 28,
   "id": "1b2a385b",
   "metadata": {},
   "outputs": [
    {
     "data": {
      "text/html": [
       "<div>\n",
       "<style scoped>\n",
       "    .dataframe tbody tr th:only-of-type {\n",
       "        vertical-align: middle;\n",
       "    }\n",
       "\n",
       "    .dataframe tbody tr th {\n",
       "        vertical-align: top;\n",
       "    }\n",
       "\n",
       "    .dataframe thead th {\n",
       "        text-align: right;\n",
       "    }\n",
       "</style>\n",
       "<table border=\"1\" class=\"dataframe\">\n",
       "  <thead>\n",
       "    <tr style=\"text-align: right;\">\n",
       "      <th>platform</th>\n",
       "      <th>3DS</th>\n",
       "      <th>PS3</th>\n",
       "      <th>PS4</th>\n",
       "      <th>X360</th>\n",
       "      <th>XOne</th>\n",
       "    </tr>\n",
       "    <tr>\n",
       "      <th>year_of_release</th>\n",
       "      <th></th>\n",
       "      <th></th>\n",
       "      <th></th>\n",
       "      <th></th>\n",
       "      <th></th>\n",
       "    </tr>\n",
       "  </thead>\n",
       "  <tbody>\n",
       "    <tr>\n",
       "      <td>2012.0</td>\n",
       "      <td>51.36</td>\n",
       "      <td>107.36</td>\n",
       "      <td>NaN</td>\n",
       "      <td>99.74</td>\n",
       "      <td>NaN</td>\n",
       "    </tr>\n",
       "    <tr>\n",
       "      <td>2013.0</td>\n",
       "      <td>56.57</td>\n",
       "      <td>113.25</td>\n",
       "      <td>25.99</td>\n",
       "      <td>88.58</td>\n",
       "      <td>18.96</td>\n",
       "    </tr>\n",
       "    <tr>\n",
       "      <td>2014.0</td>\n",
       "      <td>43.76</td>\n",
       "      <td>47.76</td>\n",
       "      <td>100.00</td>\n",
       "      <td>34.74</td>\n",
       "      <td>54.07</td>\n",
       "    </tr>\n",
       "    <tr>\n",
       "      <td>2015.0</td>\n",
       "      <td>27.78</td>\n",
       "      <td>16.82</td>\n",
       "      <td>118.90</td>\n",
       "      <td>11.96</td>\n",
       "      <td>60.14</td>\n",
       "    </tr>\n",
       "    <tr>\n",
       "      <td>2016.0</td>\n",
       "      <td>15.14</td>\n",
       "      <td>3.60</td>\n",
       "      <td>69.25</td>\n",
       "      <td>1.52</td>\n",
       "      <td>26.15</td>\n",
       "    </tr>\n",
       "  </tbody>\n",
       "</table>\n",
       "</div>"
      ],
      "text/plain": [
       "platform           3DS     PS3     PS4   X360   XOne\n",
       "year_of_release                                     \n",
       "2012.0           51.36  107.36     NaN  99.74    NaN\n",
       "2013.0           56.57  113.25   25.99  88.58  18.96\n",
       "2014.0           43.76   47.76  100.00  34.74  54.07\n",
       "2015.0           27.78   16.82  118.90  11.96  60.14\n",
       "2016.0           15.14    3.60   69.25   1.52  26.15"
      ]
     },
     "execution_count": 28,
     "metadata": {},
     "output_type": "execute_result"
    }
   ],
   "source": [
    "pivot_top5 = df_top5.pivot_table(index = 'year_of_release',columns = 'platform', values = 'total_sales', aggfunc = 'sum')\n",
    "pivot_top5"
   ]
  },
  {
   "cell_type": "markdown",
   "id": "32cf8931",
   "metadata": {},
   "source": [
    "#### Корреляция между продажами и оценками пользователей и критиков на примере самой прибыльной платформы PS4"
   ]
  },
  {
   "cell_type": "code",
   "execution_count": 29,
   "id": "a3179bf6",
   "metadata": {},
   "outputs": [],
   "source": [
    "df_PS2 = df.query('platform == \"PS4\"')"
   ]
  },
  {
   "cell_type": "code",
   "execution_count": 30,
   "id": "6348076c",
   "metadata": {},
   "outputs": [
    {
     "data": {
      "text/plain": [
       "<matplotlib.axes._subplots.AxesSubplot at 0x7f44a851cf90>"
      ]
     },
     "execution_count": 30,
     "metadata": {},
     "output_type": "execute_result"
    },
    {
     "data": {
      "image/png": "[encoded data removed]",
      "text/plain": [
       "<Figure size 432x288 with 1 Axes>"
      ]
     },
     "metadata": {
      "needs_background": "light"
     },
     "output_type": "display_data"
    }
   ],
   "source": [
    "df_PS2.plot(kind = 'scatter', x = 'total_sales', y = 'critic_score', title = 'диаграмма рассеивания')"
   ]
  },
  {
   "cell_type": "code",
   "execution_count": 31,
   "id": "eef698e7",
   "metadata": {},
   "outputs": [
    {
     "data": {
      "text/plain": [
       "<matplotlib.axes._subplots.AxesSubplot at 0x7f44a83cdc50>"
      ]
     },
     "execution_count": 31,
     "metadata": {},
     "output_type": "execute_result"
    },
    {
     "data": {
      "image/png": "[encoded data removed]",
      "text/plain": [
       "<Figure size 432x288 with 1 Axes>"
      ]
     },
     "metadata": {
      "needs_background": "light"
     },
     "output_type": "display_data"
    }
   ],
   "source": [
    "df_PS2.plot(kind = 'scatter', x = 'total_sales', y = 'user_score', title = 'диаграмма рассеивания')"
   ]
  },
  {
   "cell_type": "code",
   "execution_count": 32,
   "id": "dc0cdde6",
   "metadata": {},
   "outputs": [
    {
     "name": "stdout",
     "output_type": "stream",
     "text": [
      "0.406567902061781\n"
     ]
    }
   ],
   "source": [
    "print(df_PS2['total_sales'].corr(df['critic_score']))"
   ]
  },
  {
   "cell_type": "code",
   "execution_count": 33,
   "id": "a978b07a",
   "metadata": {},
   "outputs": [
    {
     "name": "stdout",
     "output_type": "stream",
     "text": [
      "-0.031957110204556424\n"
     ]
    }
   ],
   "source": [
    "print(df_PS2['total_sales'].corr(df['user_score']))"
   ]
  },
  {
   "cell_type": "markdown",
   "id": "93e9474f",
   "metadata": {},
   "source": [
    "Явной зависимости мы не обнаруживаем, однако она наблюдается между оценкой критиков и общими продажамт: связь положительная средней силы. Что касается оценки пользователей, то связь так же существует, но она достаточно слабая."
   ]
  },
  {
   "cell_type": "markdown",
   "id": "c9058782",
   "metadata": {},
   "source": [
    "<div class=\"alert alert-info\">\n",
    "<h2> Комментарий студента 1</h2>\n",
    "    \n",
    "Наблюдаем слабую положительную связь между продажами самой прибыльной компании и оценками критиков, в тоже время может заявить, чо связи между оценками пользователей и продажами не существует. Таким образом, вероятно при выборе игр люди могут ориентироваться на оценки критиков. \n",
    "</div>\n"
   ]
  },
  {
   "cell_type": "markdown",
   "id": "ae2a6275",
   "metadata": {},
   "source": [
    "<div class=\"alert alert-success\">\n",
    "    \n",
    "<b> Комментарий от ревьюера</b>\n",
    "    \n",
    "Молодец, ты правильно определила зависимость продаж от оценок. Только если мы видим коэффициент корреляции в интервале [-0.25, 0.25], это скорее говорит о том, что связи нет.\n",
    "</div>"
   ]
  },
  {
   "cell_type": "markdown",
   "id": "0aea8c8b",
   "metadata": {},
   "source": [
    "#### Ящик с усами"
   ]
  },
  {
   "cell_type": "markdown",
   "id": "dca20040",
   "metadata": {},
   "source": [
    "<div class=\"alert alert-danger\">\n",
    "    \n",
    "<b> Комментарий от ревьюера</b>\n",
    "    \n",
    "У нас тут как-то перемешались корреляция и диаграмма размаха по продажам. Поправь, пожалуйста, структуру проекта\n",
    "</div>"
   ]
  },
  {
   "cell_type": "code",
   "execution_count": 34,
   "id": "b04c1e1e",
   "metadata": {},
   "outputs": [
    {
     "name": "stderr",
     "output_type": "stream",
     "text": [
      "/opt/conda/lib/python3.7/site-packages/numpy/core/_asarray.py:83: VisibleDeprecationWarning: Creating an ndarray from ragged nested sequences (which is a list-or-tuple of lists-or-tuples-or ndarrays with different lengths or shapes) is deprecated. If you meant to do this, you must specify 'dtype=object' when creating the ndarray\n",
      "  return array(a, dtype, copy=False, order=order)\n"
     ]
    },
    {
     "data": {
      "text/plain": [
       "<matplotlib.axes._subplots.AxesSubplot at 0x7f44a835db90>"
      ]
     },
     "execution_count": 34,
     "metadata": {},
     "output_type": "execute_result"
    },
    {
     "data": {
      "image/png": "[encoded data removed]",
      "text/plain": [
       "<Figure size 432x288 with 1 Axes>"
      ]
     },
     "metadata": {
      "needs_background": "light"
     },
     "output_type": "display_data"
    }
   ],
   "source": [
    "pivot_top5.boxplot()"
   ]
  },
  {
   "cell_type": "markdown",
   "id": "ab07a34a",
   "metadata": {},
   "source": [
    "Видим, что в преставленной выборке все значения входят в межквартильный размах, что говорит об отсутствии выбросов. Данные по платформам 3DS, PS4 скошены влево: медиана больше среднего; в то время как по платформам PS3 и X360 скошены вправо, распределение значений по платформе XOne близко к нормальному."
   ]
  },
  {
   "cell_type": "markdown",
   "id": "91617a14",
   "metadata": {},
   "source": [
    "<div class=\"alert alert-success\">\n",
    "    \n",
    "<b> Комментарий от ревьюера</b>\n",
    "    \n",
    "Молодец, что рассмотрела суммарные годовые продажи по платформам\n",
    "</div>\n"
   ]
  },
  {
   "cell_type": "markdown",
   "id": "a88ca1d5",
   "metadata": {},
   "source": [
    "<div class=\"alert alert-danger\">\n",
    "    \n",
    "<b> Комментарий от ревьюера</b>\n",
    "    \n",
    "Но давай еще рассмотрит продажи по всем играм за актуальный период без группировки по годам. Это позволит понять, у каких платформ игры обычно продаются большим тиражом. Учти, что на этом графике будет много выбросов, можно о них сказать пару слов в выводе.\n",
    "    \n",
    "Еще будет здорово, если ты добавишь еще один график, но с использованием метода .ylim() библиотеки matplotlib, с помощью которого можно ограничить значения по оси Y. Это позволит нам рассмотреть значения квартилей.\n",
    "    \n",
    "[Документация ylim](https://matplotlib.org/stable/api/_as_gen/matplotlib.pyplot.ylim.html)\n",
    "    \n",
    "\n",
    "</div>\n"
   ]
  },
  {
   "cell_type": "code",
   "execution_count": 40,
   "id": "9c5e9714",
   "metadata": {},
   "outputs": [
    {
     "name": "stderr",
     "output_type": "stream",
     "text": [
      "/opt/conda/lib/python3.7/site-packages/numpy/core/_asarray.py:83: VisibleDeprecationWarning: Creating an ndarray from ragged nested sequences (which is a list-or-tuple of lists-or-tuples-or ndarrays with different lengths or shapes) is deprecated. If you meant to do this, you must specify 'dtype=object' when creating the ndarray\n",
      "  return array(a, dtype, copy=False, order=order)\n"
     ]
    },
    {
     "data": {
      "text/plain": [
       "(0, 4)"
      ]
     },
     "execution_count": 40,
     "metadata": {},
     "output_type": "execute_result"
    },
    {
     "data": {
      "image/png": "[encoded data removed]",
      "text/plain": [
       "<Figure size 432x288 with 1 Axes>"
      ]
     },
     "metadata": {
      "needs_background": "light"
     },
     "output_type": "display_data"
    }
   ],
   "source": [
    "df.boxplot(column = 'total_sales',by = 'platform')\n",
    "plt.ylim(0, 4)"
   ]
  },
  {
   "cell_type": "markdown",
   "id": "9e816a96",
   "metadata": {},
   "source": [
    "<div class=\"alert alert-info\">\n",
    "<h2> Комментарий студента</h2>\n",
    "\n",
    "Если честно, не совсем поняла, что имеешь ввиду под последним комментарием. Вероятнее всего абсолютно не то, что я нарисовала(. Можешь как-то иначе объяснить?)\n",
    "</div>\n"
   ]
  },
  {
   "cell_type": "markdown",
   "id": "62aa7e44",
   "metadata": {},
   "source": [
    "<div class=\"alert alert-danger\">\n",
    "    \n",
    "<b> Комментарий от ревьюера 2</b>\n",
    "    \n",
    "Сначала ты нарисовала боксплот по годовым продажам игр в разрезе платформ, и я попросил построить боксплот без группировки данных по годам. \n",
    "    \n",
    "Нужно построить боксплот по таблице df в разрезе платформ, это можно сделать с помощью параметра by метода .boxplot()\n",
    "    \n",
    "`games2.boxplot(column=...,by=...)`\n",
    "    \n",
    "[Документация boxplot](https://pandas.pydata.org/docs/reference/api/pandas.DataFrame.boxplot.html)\n",
    "    \n",
    "На полученном графике будет много выбросов, из-за которых квартили и усы будут плохо видны. Поэтому можно добавить второй точно такой же график, но с использованием метода .ylim() библиотеки matplotlib, с помощью которого можно ограничить диапазон значений по оси Y. Это позволит нам рассмотреть значения квартилей.\n",
    "    \n",
    "[Документация ylim](https://matplotlib.org/stable/api/_as_gen/matplotlib.pyplot.ylim.html)    \n",
    "</div>\n"
   ]
  },
  {
   "cell_type": "markdown",
   "id": "bda2c244",
   "metadata": {},
   "source": [
    "<div class=\"alert alert-info\">\n",
    "<h2> Комментарий студента 2</h2>\n",
    "\n",
    "Все, теперь поняла). Мы видим, что продажи достаточно маленькие по всем платформам; данные скошены вправо; действительно очень много выбросов,можно отметить то, что больше всего выбросов приходится именно на самые популярные платформы. Это может объясняться тем, что некоторые из них находятся на пике популярности, ввиду этого и идет сверх большие продажи."
   ]
  },
  {
   "cell_type": "markdown",
   "id": "ed7242b0",
   "metadata": {},
   "source": [
    "<div class=\"alert alert-success\">\n",
    "    \n",
    "<b> Комментарий от ревьюера 3</b>\n",
    "\n",
    "Все верно\n",
    "\n",
    "</div>\n"
   ]
  },
  {
   "cell_type": "markdown",
   "id": "b80720a9",
   "metadata": {},
   "source": [
    "#### Корреляция между продажами и оценками пользователей и критиков по топ 5 платформам"
   ]
  },
  {
   "cell_type": "code",
   "execution_count": 41,
   "id": "1fbf5431",
   "metadata": {},
   "outputs": [
    {
     "data": {
      "text/plain": [
       "<matplotlib.axes._subplots.AxesSubplot at 0x7f44a21c8e90>"
      ]
     },
     "execution_count": 41,
     "metadata": {},
     "output_type": "execute_result"
    },
    {
     "data": {
      "image/png": "[encoded data removed]",
      "text/plain": [
       "<Figure size 432x288 with 1 Axes>"
      ]
     },
     "metadata": {
      "needs_background": "light"
     },
     "output_type": "display_data"
    }
   ],
   "source": [
    "df.plot(kind = 'scatter', x = 'total_sales', y = 'critic_score', title = 'диаграмма рассеивания')"
   ]
  },
  {
   "cell_type": "code",
   "execution_count": 42,
   "id": "ecd92625",
   "metadata": {},
   "outputs": [
    {
     "data": {
      "text/plain": [
       "<matplotlib.axes._subplots.AxesSubplot at 0x7f44a2161ad0>"
      ]
     },
     "execution_count": 42,
     "metadata": {},
     "output_type": "execute_result"
    },
    {
     "data": {
      "image/png": "[encoded data removed]",
      "text/plain": [
       "<Figure size 432x288 with 1 Axes>"
      ]
     },
     "metadata": {
      "needs_background": "light"
     },
     "output_type": "display_data"
    }
   ],
   "source": [
    "df.plot(kind = 'scatter', x = 'total_sales', y = 'user_score', title = 'диаграмма рассеивания')"
   ]
  },
  {
   "cell_type": "code",
   "execution_count": 43,
   "id": "10b26eb2",
   "metadata": {},
   "outputs": [
    {
     "name": "stdout",
     "output_type": "stream",
     "text": [
      "0.308196745920778\n"
     ]
    }
   ],
   "source": [
    "print(df['total_sales'].corr(df['critic_score']))"
   ]
  },
  {
   "cell_type": "code",
   "execution_count": 44,
   "id": "a0786ea9",
   "metadata": {},
   "outputs": [
    {
     "name": "stdout",
     "output_type": "stream",
     "text": [
      "0.004428817675493266\n"
     ]
    }
   ],
   "source": [
    "print(df['total_sales'].corr(df['user_score']))"
   ]
  },
  {
   "cell_type": "markdown",
   "id": "cce74ffa",
   "metadata": {},
   "source": [
    "Исходя из результатов диаграмм рассеивания и коэффициентов корреляции мы можем утверждать, что связь между оценками критиков/пользователей и продажами игр достаточно слабая. Таким образом, можно сказать, что люди, при покупке игр, вероятнее всего редко заостряют свое внимание на оценки. "
   ]
  },
  {
   "cell_type": "markdown",
   "id": "9396de93",
   "metadata": {},
   "source": [
    "При сравнении результатов по топ 5 платформам и самой прибыльной, можно заявить, что связь положительна, но в рамках 5 платформ она достаточно слабая, чтобы говорить о существенной корреляции между переменными."
   ]
  },
  {
   "cell_type": "markdown",
   "id": "28ae42bc",
   "metadata": {},
   "source": [
    "<div class=\"alert alert-success\">\n",
    "    \n",
    "<b> Комментарий от ревьюера</b>\n",
    "    \n",
    "Все верно\n",
    "</div>"
   ]
  },
  {
   "cell_type": "markdown",
   "id": "01f001e0",
   "metadata": {},
   "source": [
    "<div class=\"alert alert-info\">\n",
    "<h2> Комментарий студента</h2>\n",
    "\n",
    "Аналогично с самой прибыльной платформой, топ-5 платформ демонстрируют положительную слабую взяимосвязь между продажами и оцек=нкой критиков и отсутствие связи между продажами и оценкой пользователей.\n",
    "</div>\n"
   ]
  },
  {
   "cell_type": "markdown",
   "id": "a6f2997e",
   "metadata": {},
   "source": [
    "<div class=\"alert alert-success\">\n",
    "    \n",
    "<b> Комментарий от ревьюера 2</b>\n",
    "    \n",
    "👍\n",
    "</div>\n"
   ]
  },
  {
   "cell_type": "markdown",
   "id": "e4d7182f",
   "metadata": {},
   "source": [
    "#### Распределение игр по жанрам"
   ]
  },
  {
   "cell_type": "code",
   "execution_count": 45,
   "id": "1097efee",
   "metadata": {},
   "outputs": [
    {
     "data": {
      "text/html": [
       "<div>\n",
       "<style scoped>\n",
       "    .dataframe tbody tr th:only-of-type {\n",
       "        vertical-align: middle;\n",
       "    }\n",
       "\n",
       "    .dataframe tbody tr th {\n",
       "        vertical-align: top;\n",
       "    }\n",
       "\n",
       "    .dataframe thead th {\n",
       "        text-align: right;\n",
       "    }\n",
       "</style>\n",
       "<table border=\"1\" class=\"dataframe\">\n",
       "  <thead>\n",
       "    <tr style=\"text-align: right;\">\n",
       "      <th></th>\n",
       "      <th>total_sales</th>\n",
       "    </tr>\n",
       "    <tr>\n",
       "      <th>genre</th>\n",
       "      <th></th>\n",
       "    </tr>\n",
       "  </thead>\n",
       "  <tbody>\n",
       "    <tr>\n",
       "      <td>Action</td>\n",
       "      <td>441.12</td>\n",
       "    </tr>\n",
       "    <tr>\n",
       "      <td>Shooter</td>\n",
       "      <td>304.73</td>\n",
       "    </tr>\n",
       "    <tr>\n",
       "      <td>Role-Playing</td>\n",
       "      <td>192.80</td>\n",
       "    </tr>\n",
       "    <tr>\n",
       "      <td>Sports</td>\n",
       "      <td>181.07</td>\n",
       "    </tr>\n",
       "    <tr>\n",
       "      <td>Misc</td>\n",
       "      <td>85.04</td>\n",
       "    </tr>\n",
       "    <tr>\n",
       "      <td>Platform</td>\n",
       "      <td>61.00</td>\n",
       "    </tr>\n",
       "    <tr>\n",
       "      <td>Racing</td>\n",
       "      <td>53.50</td>\n",
       "    </tr>\n",
       "    <tr>\n",
       "      <td>Fighting</td>\n",
       "      <td>44.49</td>\n",
       "    </tr>\n",
       "    <tr>\n",
       "      <td>Simulation</td>\n",
       "      <td>35.12</td>\n",
       "    </tr>\n",
       "    <tr>\n",
       "      <td>Adventure</td>\n",
       "      <td>29.43</td>\n",
       "    </tr>\n",
       "    <tr>\n",
       "      <td>Strategy</td>\n",
       "      <td>13.34</td>\n",
       "    </tr>\n",
       "    <tr>\n",
       "      <td>Puzzle</td>\n",
       "      <td>4.89</td>\n",
       "    </tr>\n",
       "  </tbody>\n",
       "</table>\n",
       "</div>"
      ],
      "text/plain": [
       "              total_sales\n",
       "genre                    \n",
       "Action             441.12\n",
       "Shooter            304.73\n",
       "Role-Playing       192.80\n",
       "Sports             181.07\n",
       "Misc                85.04\n",
       "Platform            61.00\n",
       "Racing              53.50\n",
       "Fighting            44.49\n",
       "Simulation          35.12\n",
       "Adventure           29.43\n",
       "Strategy            13.34\n",
       "Puzzle               4.89"
      ]
     },
     "execution_count": 45,
     "metadata": {},
     "output_type": "execute_result"
    }
   ],
   "source": [
    "pivot_genre = df.pivot_table(index = 'genre', values = 'total_sales', aggfunc = 'sum')\n",
    "pivot_genre.sort_values(by = 'total_sales',ascending = False)"
   ]
  },
  {
   "cell_type": "markdown",
   "id": "e3256066",
   "metadata": {},
   "source": [
    "Самым популярным по количеству продаж жанром является боевик; такая лидирующая позиция жанра достаточно очевидна, поскольку современный человек подвержен стрессу и именно боевики позволяют выплеснуть эту накопившуюся агрессию в сражениях, однако не всегда этого достаточно ( именно поэтому шутеры на втором месте по продажам), зачастую хочется каких-то дополнительных логических задач, которые представлены в экшене. Предпоследнее место по продажам занимают стратегические игры: вероятно, объяснение может быть в том, что в играх людям больше всего хочется отвлечься от реальности и расслабиться, в то время как в стратегиях необходимо предпринять много мыслительных действий, что может отпугивать большинство потенциальных покупателей. И самое последнее место принадлежит пазлам, вероятнее всего это достаточно скучные игры, поэтому люди не видят смысла платить за них деньги."
   ]
  },
  {
   "cell_type": "markdown",
   "id": "ba7d3d4e",
   "metadata": {},
   "source": [
    "\n",
    "<div class=\"alert alert-success\">\n",
    "    \n",
    "<b> Комментарий от ревьюера</b>\n",
    "    \n",
    "Молодец, что рассмотрела суммарные продажи игр по жанрам.\n",
    "</div>\n",
    "\n",
    "\n",
    "\n",
    "<div class=\"alert alert-danger\">\n",
    "    \n",
    "<b> Комментарий от ревьюера</b>\n",
    "    \n",
    "    \n",
    "Давай еще посмотрим на количество игр в каждом жанре. Если количество игр будет сильно различаться, предлагаю посчитать медианные продажи игр по жанрам, чтобы понять, какой жанр обычно продается лучше.\n",
    "</div>"
   ]
  },
  {
   "cell_type": "code",
   "execution_count": 46,
   "id": "d7e62dd2",
   "metadata": {},
   "outputs": [
    {
     "data": {
      "text/html": [
       "<div>\n",
       "<style scoped>\n",
       "    .dataframe tbody tr th:only-of-type {\n",
       "        vertical-align: middle;\n",
       "    }\n",
       "\n",
       "    .dataframe tbody tr th {\n",
       "        vertical-align: top;\n",
       "    }\n",
       "\n",
       "    .dataframe thead th {\n",
       "        text-align: right;\n",
       "    }\n",
       "</style>\n",
       "<table border=\"1\" class=\"dataframe\">\n",
       "  <thead>\n",
       "    <tr style=\"text-align: right;\">\n",
       "      <th></th>\n",
       "      <th>name</th>\n",
       "    </tr>\n",
       "    <tr>\n",
       "      <th>genre</th>\n",
       "      <th></th>\n",
       "    </tr>\n",
       "  </thead>\n",
       "  <tbody>\n",
       "    <tr>\n",
       "      <td>Action</td>\n",
       "      <td>1031</td>\n",
       "    </tr>\n",
       "    <tr>\n",
       "      <td>Adventure</td>\n",
       "      <td>302</td>\n",
       "    </tr>\n",
       "    <tr>\n",
       "      <td>Fighting</td>\n",
       "      <td>109</td>\n",
       "    </tr>\n",
       "    <tr>\n",
       "      <td>Misc</td>\n",
       "      <td>192</td>\n",
       "    </tr>\n",
       "    <tr>\n",
       "      <td>Platform</td>\n",
       "      <td>85</td>\n",
       "    </tr>\n",
       "    <tr>\n",
       "      <td>Puzzle</td>\n",
       "      <td>28</td>\n",
       "    </tr>\n",
       "    <tr>\n",
       "      <td>Racing</td>\n",
       "      <td>115</td>\n",
       "    </tr>\n",
       "    <tr>\n",
       "      <td>Role-Playing</td>\n",
       "      <td>370</td>\n",
       "    </tr>\n",
       "    <tr>\n",
       "      <td>Shooter</td>\n",
       "      <td>235</td>\n",
       "    </tr>\n",
       "    <tr>\n",
       "      <td>Simulation</td>\n",
       "      <td>80</td>\n",
       "    </tr>\n",
       "    <tr>\n",
       "      <td>Sports</td>\n",
       "      <td>268</td>\n",
       "    </tr>\n",
       "    <tr>\n",
       "      <td>Strategy</td>\n",
       "      <td>71</td>\n",
       "    </tr>\n",
       "  </tbody>\n",
       "</table>\n",
       "</div>"
      ],
      "text/plain": [
       "              name\n",
       "genre             \n",
       "Action        1031\n",
       "Adventure      302\n",
       "Fighting       109\n",
       "Misc           192\n",
       "Platform        85\n",
       "Puzzle          28\n",
       "Racing         115\n",
       "Role-Playing   370\n",
       "Shooter        235\n",
       "Simulation      80\n",
       "Sports         268\n",
       "Strategy        71"
      ]
     },
     "execution_count": 46,
     "metadata": {},
     "output_type": "execute_result"
    }
   ],
   "source": [
    "df.pivot_table(index = 'genre', values = 'name', aggfunc = 'count')"
   ]
  },
  {
   "cell_type": "code",
   "execution_count": 47,
   "id": "04d3e5fe",
   "metadata": {},
   "outputs": [
    {
     "data": {
      "text/html": [
       "<div>\n",
       "<style scoped>\n",
       "    .dataframe tbody tr th:only-of-type {\n",
       "        vertical-align: middle;\n",
       "    }\n",
       "\n",
       "    .dataframe tbody tr th {\n",
       "        vertical-align: top;\n",
       "    }\n",
       "\n",
       "    .dataframe thead th {\n",
       "        text-align: right;\n",
       "    }\n",
       "</style>\n",
       "<table border=\"1\" class=\"dataframe\">\n",
       "  <thead>\n",
       "    <tr style=\"text-align: right;\">\n",
       "      <th></th>\n",
       "      <th>total_sales</th>\n",
       "    </tr>\n",
       "    <tr>\n",
       "      <th>genre</th>\n",
       "      <th></th>\n",
       "    </tr>\n",
       "  </thead>\n",
       "  <tbody>\n",
       "    <tr>\n",
       "      <td>Shooter</td>\n",
       "      <td>0.440</td>\n",
       "    </tr>\n",
       "    <tr>\n",
       "      <td>Sports</td>\n",
       "      <td>0.240</td>\n",
       "    </tr>\n",
       "    <tr>\n",
       "      <td>Platform</td>\n",
       "      <td>0.210</td>\n",
       "    </tr>\n",
       "    <tr>\n",
       "      <td>Role-Playing</td>\n",
       "      <td>0.140</td>\n",
       "    </tr>\n",
       "    <tr>\n",
       "      <td>Racing</td>\n",
       "      <td>0.140</td>\n",
       "    </tr>\n",
       "    <tr>\n",
       "      <td>Fighting</td>\n",
       "      <td>0.130</td>\n",
       "    </tr>\n",
       "    <tr>\n",
       "      <td>Action</td>\n",
       "      <td>0.120</td>\n",
       "    </tr>\n",
       "    <tr>\n",
       "      <td>Misc</td>\n",
       "      <td>0.120</td>\n",
       "    </tr>\n",
       "    <tr>\n",
       "      <td>Simulation</td>\n",
       "      <td>0.120</td>\n",
       "    </tr>\n",
       "    <tr>\n",
       "      <td>Strategy</td>\n",
       "      <td>0.080</td>\n",
       "    </tr>\n",
       "    <tr>\n",
       "      <td>Puzzle</td>\n",
       "      <td>0.045</td>\n",
       "    </tr>\n",
       "    <tr>\n",
       "      <td>Adventure</td>\n",
       "      <td>0.030</td>\n",
       "    </tr>\n",
       "  </tbody>\n",
       "</table>\n",
       "</div>"
      ],
      "text/plain": [
       "              total_sales\n",
       "genre                    \n",
       "Shooter             0.440\n",
       "Sports              0.240\n",
       "Platform            0.210\n",
       "Role-Playing        0.140\n",
       "Racing              0.140\n",
       "Fighting            0.130\n",
       "Action              0.120\n",
       "Misc                0.120\n",
       "Simulation          0.120\n",
       "Strategy            0.080\n",
       "Puzzle              0.045\n",
       "Adventure           0.030"
      ]
     },
     "execution_count": 47,
     "metadata": {},
     "output_type": "execute_result"
    }
   ],
   "source": [
    "df.pivot_table(index = 'genre', values = 'total_sales', aggfunc = 'median').sort_values(by = 'total_sales',ascending = False)"
   ]
  },
  {
   "cell_type": "markdown",
   "id": "d79f5fb1",
   "metadata": {},
   "source": [
    "<div class=\"alert alert-info\">\n",
    "<h2> Комментарий студента</h2>\n",
    "\n",
    "значения достаточно сильно разнились по количеству игр в каждом жанре, поэтому взяла медиану. Получается, что лучше всего продаются шутеры, спорт и платформеры. Хуже всего пазлы и приключения. \n",
    "</div>\n"
   ]
  },
  {
   "cell_type": "markdown",
   "id": "6d2f7753",
   "metadata": {},
   "source": [
    "<div class=\"alert alert-success\">\n",
    "    \n",
    "<b> Комментарий от ревьюера 2</b>\n",
    "\n",
    "Все верно, молодец, что дополнила исследование\n",
    "\n",
    "</div>"
   ]
  },
  {
   "cell_type": "markdown",
   "id": "b998272d",
   "metadata": {},
   "source": [
    "## Портреты пользователей каждого региона"
   ]
  },
  {
   "cell_type": "markdown",
   "id": "f24c4fe7",
   "metadata": {},
   "source": [
    "#### Портрет пользователя из Северной Америки"
   ]
  },
  {
   "cell_type": "code",
   "execution_count": 48,
   "id": "7057f9ed",
   "metadata": {},
   "outputs": [
    {
     "data": {
      "text/html": [
       "<div>\n",
       "<style scoped>\n",
       "    .dataframe tbody tr th:only-of-type {\n",
       "        vertical-align: middle;\n",
       "    }\n",
       "\n",
       "    .dataframe tbody tr th {\n",
       "        vertical-align: top;\n",
       "    }\n",
       "\n",
       "    .dataframe thead th {\n",
       "        text-align: right;\n",
       "    }\n",
       "</style>\n",
       "<table border=\"1\" class=\"dataframe\">\n",
       "  <thead>\n",
       "    <tr style=\"text-align: right;\">\n",
       "      <th></th>\n",
       "      <th>na_sales</th>\n",
       "    </tr>\n",
       "    <tr>\n",
       "      <th>platform</th>\n",
       "      <th></th>\n",
       "    </tr>\n",
       "  </thead>\n",
       "  <tbody>\n",
       "    <tr>\n",
       "      <td>X360</td>\n",
       "      <td>140.05</td>\n",
       "    </tr>\n",
       "    <tr>\n",
       "      <td>PS4</td>\n",
       "      <td>108.74</td>\n",
       "    </tr>\n",
       "    <tr>\n",
       "      <td>PS3</td>\n",
       "      <td>103.38</td>\n",
       "    </tr>\n",
       "    <tr>\n",
       "      <td>XOne</td>\n",
       "      <td>93.12</td>\n",
       "    </tr>\n",
       "    <tr>\n",
       "      <td>3DS</td>\n",
       "      <td>55.31</td>\n",
       "    </tr>\n",
       "  </tbody>\n",
       "</table>\n",
       "</div>"
      ],
      "text/plain": [
       "          na_sales\n",
       "platform          \n",
       "X360        140.05\n",
       "PS4         108.74\n",
       "PS3         103.38\n",
       "XOne         93.12\n",
       "3DS          55.31"
      ]
     },
     "execution_count": 48,
     "metadata": {},
     "output_type": "execute_result"
    }
   ],
   "source": [
    "#Самые популярные платформы\n",
    "df.pivot_table(index = 'platform', values = 'na_sales', aggfunc = 'sum').sort_values(by = 'na_sales', ascending = False).head()"
   ]
  },
  {
   "cell_type": "code",
   "execution_count": 49,
   "id": "cc2082d3",
   "metadata": {},
   "outputs": [
    {
     "data": {
      "text/html": [
       "<div>\n",
       "<style scoped>\n",
       "    .dataframe tbody tr th:only-of-type {\n",
       "        vertical-align: middle;\n",
       "    }\n",
       "\n",
       "    .dataframe tbody tr th {\n",
       "        vertical-align: top;\n",
       "    }\n",
       "\n",
       "    .dataframe thead th {\n",
       "        text-align: right;\n",
       "    }\n",
       "</style>\n",
       "<table border=\"1\" class=\"dataframe\">\n",
       "  <thead>\n",
       "    <tr style=\"text-align: right;\">\n",
       "      <th></th>\n",
       "      <th>na_sales</th>\n",
       "    </tr>\n",
       "    <tr>\n",
       "      <th>genre</th>\n",
       "      <th></th>\n",
       "    </tr>\n",
       "  </thead>\n",
       "  <tbody>\n",
       "    <tr>\n",
       "      <td>Shooter</td>\n",
       "      <td>0.20</td>\n",
       "    </tr>\n",
       "    <tr>\n",
       "      <td>Platform</td>\n",
       "      <td>0.09</td>\n",
       "    </tr>\n",
       "    <tr>\n",
       "      <td>Sports</td>\n",
       "      <td>0.08</td>\n",
       "    </tr>\n",
       "    <tr>\n",
       "      <td>Fighting</td>\n",
       "      <td>0.05</td>\n",
       "    </tr>\n",
       "    <tr>\n",
       "      <td>Racing</td>\n",
       "      <td>0.04</td>\n",
       "    </tr>\n",
       "  </tbody>\n",
       "</table>\n",
       "</div>"
      ],
      "text/plain": [
       "          na_sales\n",
       "genre             \n",
       "Shooter       0.20\n",
       "Platform      0.09\n",
       "Sports        0.08\n",
       "Fighting      0.05\n",
       "Racing        0.04"
      ]
     },
     "execution_count": 49,
     "metadata": {},
     "output_type": "execute_result"
    }
   ],
   "source": [
    "#Самые популярные жанры \n",
    "df.pivot_table(index = 'genre', values = 'na_sales', aggfunc = 'median').sort_values(by = 'na_sales', ascending = False).head()"
   ]
  },
  {
   "cell_type": "code",
   "execution_count": 50,
   "id": "a81638a2",
   "metadata": {},
   "outputs": [
    {
     "data": {
      "text/plain": [
       "<matplotlib.axes._subplots.AxesSubplot at 0x7f44a20c7d90>"
      ]
     },
     "execution_count": 50,
     "metadata": {},
     "output_type": "execute_result"
    },
    {
     "data": {
      "image/png": "[encoded data removed]",
      "text/plain": [
       "<Figure size 432x288 with 1 Axes>"
      ]
     },
     "metadata": {
      "needs_background": "light"
     },
     "output_type": "display_data"
    }
   ],
   "source": [
    "#Влияет ли рейтинг ESRB на продажи в регионе?\n",
    "df.pivot_table(index = 'rating', values = 'na_sales', aggfunc = 'sum').sort_values(by = 'na_sales', ascending = False).plot(kind = 'bar', title = 'Распределение продаж по рейтингам', grid =True)\n"
   ]
  },
  {
   "cell_type": "markdown",
   "id": "56f1fd9e",
   "metadata": {},
   "source": [
    "<div class=\"alert alert-warning\">\n",
    "    \n",
    "<b> Комментарий от ревьюера</b>\n",
    "    \n",
    "В признаке rating у нас 40% пропусков, мы могли бы их заполнить значением-заглушкой, чтобы посмотреть, как они распределятся между регионами \n",
    "</div>"
   ]
  },
  {
   "cell_type": "markdown",
   "id": "5a5f82ee",
   "metadata": {},
   "source": [
    "Добавим описание категорий для удобства:\n",
    "1. E - для всех;\n",
    "2. M - для взрослых (18+);\n",
    "3. Т - подростки (13+);\n",
    "4. Е10+ -от 10 лет и старше;\n",
    "5. ЕС - для детей младшего возраст (3+);\n",
    "6. RP - рейтинг ожидается"
   ]
  },
  {
   "cell_type": "markdown",
   "id": "2cdd3370",
   "metadata": {},
   "source": [
    "Типичный портрет пользователя из Северной Америки:\n",
    "1. Распределение топ 5 платформ не отличается от топ 5 самых прибыльных платформ по всему миру; лидирующую позицию занимает платформа X360;\n",
    "2. Предпочтения так же не отличаются от всего мира; лидирующие позиция по-прежнему остаются за шутерами и платформерами;\n",
    "3. Наблюдаем, что есть зависимость между возрастным рейтингом и продажами:наибольшие продажи приходятся именно на  игры для взрослых. Также популярны игры без возрастных ограничений."
   ]
  },
  {
   "cell_type": "markdown",
   "id": "72ce18ec",
   "metadata": {},
   "source": [
    "<div class=\"alert alert-success\">\n",
    "    \n",
    "<b> Комментарий от ревьюера</b>\n",
    "    \n",
    "В целом все верно\n",
    "</div>"
   ]
  },
  {
   "cell_type": "markdown",
   "id": "0a6d2b47",
   "metadata": {},
   "source": [
    "#### Портрет пользователя из Европы"
   ]
  },
  {
   "cell_type": "code",
   "execution_count": 51,
   "id": "fa8dd4ea",
   "metadata": {},
   "outputs": [
    {
     "data": {
      "text/html": [
       "<div>\n",
       "<style scoped>\n",
       "    .dataframe tbody tr th:only-of-type {\n",
       "        vertical-align: middle;\n",
       "    }\n",
       "\n",
       "    .dataframe tbody tr th {\n",
       "        vertical-align: top;\n",
       "    }\n",
       "\n",
       "    .dataframe thead th {\n",
       "        text-align: right;\n",
       "    }\n",
       "</style>\n",
       "<table border=\"1\" class=\"dataframe\">\n",
       "  <thead>\n",
       "    <tr style=\"text-align: right;\">\n",
       "      <th></th>\n",
       "      <th>eu_sales</th>\n",
       "    </tr>\n",
       "    <tr>\n",
       "      <th>platform</th>\n",
       "      <th></th>\n",
       "    </tr>\n",
       "  </thead>\n",
       "  <tbody>\n",
       "    <tr>\n",
       "      <td>PS4</td>\n",
       "      <td>141.09</td>\n",
       "    </tr>\n",
       "    <tr>\n",
       "      <td>PS3</td>\n",
       "      <td>106.86</td>\n",
       "    </tr>\n",
       "    <tr>\n",
       "      <td>X360</td>\n",
       "      <td>74.52</td>\n",
       "    </tr>\n",
       "    <tr>\n",
       "      <td>XOne</td>\n",
       "      <td>51.59</td>\n",
       "    </tr>\n",
       "    <tr>\n",
       "      <td>3DS</td>\n",
       "      <td>42.64</td>\n",
       "    </tr>\n",
       "  </tbody>\n",
       "</table>\n",
       "</div>"
      ],
      "text/plain": [
       "          eu_sales\n",
       "platform          \n",
       "PS4         141.09\n",
       "PS3         106.86\n",
       "X360         74.52\n",
       "XOne         51.59\n",
       "3DS          42.64"
      ]
     },
     "execution_count": 51,
     "metadata": {},
     "output_type": "execute_result"
    }
   ],
   "source": [
    "#Самые популярные платформы\n",
    "df.pivot_table(index = 'platform', values = 'eu_sales', aggfunc = 'sum').sort_values(by = 'eu_sales', ascending = False).head()"
   ]
  },
  {
   "cell_type": "code",
   "execution_count": 52,
   "id": "c6e6d16b",
   "metadata": {},
   "outputs": [
    {
     "data": {
      "text/html": [
       "<div>\n",
       "<style scoped>\n",
       "    .dataframe tbody tr th:only-of-type {\n",
       "        vertical-align: middle;\n",
       "    }\n",
       "\n",
       "    .dataframe tbody tr th {\n",
       "        vertical-align: top;\n",
       "    }\n",
       "\n",
       "    .dataframe thead th {\n",
       "        text-align: right;\n",
       "    }\n",
       "</style>\n",
       "<table border=\"1\" class=\"dataframe\">\n",
       "  <thead>\n",
       "    <tr style=\"text-align: right;\">\n",
       "      <th></th>\n",
       "      <th>eu_sales</th>\n",
       "    </tr>\n",
       "    <tr>\n",
       "      <th>genre</th>\n",
       "      <th></th>\n",
       "    </tr>\n",
       "  </thead>\n",
       "  <tbody>\n",
       "    <tr>\n",
       "      <td>Shooter</td>\n",
       "      <td>0.17</td>\n",
       "    </tr>\n",
       "    <tr>\n",
       "      <td>Racing</td>\n",
       "      <td>0.09</td>\n",
       "    </tr>\n",
       "    <tr>\n",
       "      <td>Platform</td>\n",
       "      <td>0.08</td>\n",
       "    </tr>\n",
       "    <tr>\n",
       "      <td>Sports</td>\n",
       "      <td>0.05</td>\n",
       "    </tr>\n",
       "    <tr>\n",
       "      <td>Simulation</td>\n",
       "      <td>0.03</td>\n",
       "    </tr>\n",
       "  </tbody>\n",
       "</table>\n",
       "</div>"
      ],
      "text/plain": [
       "            eu_sales\n",
       "genre               \n",
       "Shooter         0.17\n",
       "Racing          0.09\n",
       "Platform        0.08\n",
       "Sports          0.05\n",
       "Simulation      0.03"
      ]
     },
     "execution_count": 52,
     "metadata": {},
     "output_type": "execute_result"
    }
   ],
   "source": [
    "#Самые популярные жанры \n",
    "df_eu = df.pivot_table(index = 'genre', values = 'eu_sales', aggfunc = 'median').sort_values(by = 'eu_sales', ascending = False).head()\n",
    "df_eu"
   ]
  },
  {
   "cell_type": "code",
   "execution_count": 53,
   "id": "36bc22d1",
   "metadata": {},
   "outputs": [
    {
     "data": {
      "text/plain": [
       "<matplotlib.axes._subplots.AxesSubplot at 0x7f44a20b6e50>"
      ]
     },
     "execution_count": 53,
     "metadata": {},
     "output_type": "execute_result"
    },
    {
     "data": {
      "image/png": "[encoded data removed]",
      "text/plain": [
       "<Figure size 432x288 with 1 Axes>"
      ]
     },
     "metadata": {
      "needs_background": "light"
     },
     "output_type": "display_data"
    }
   ],
   "source": [
    "#Влияет ли рейтинг ESRB на продажи в регионе?\n",
    "df.pivot_table(index = 'rating', values = 'eu_sales', aggfunc = 'sum').sort_values(by = 'eu_sales', ascending =False).plot(kind = 'bar')"
   ]
  },
  {
   "cell_type": "markdown",
   "id": "64541017",
   "metadata": {},
   "source": [
    "Портрет пользователя из Европы:\n",
    "1. В топ 5 популярных платформ здесь входят аналогичные топ 5 прибыльных платформ по миру;\n",
    "2. На первом месте по полуярности - шутеры, однако пятерку самых популярных жанров замыкают симуляторы;\n",
    "3. Аналогично с Северной Америкой мы выявляем взаимосвязь возрастных  ограничений и количеством продаж: наибольшие продажи приходятся именно на категорию для взрослых;\n",
    "4. Последним пунктом отметим, что игровая культура Европы и Северной Америки схожа."
   ]
  },
  {
   "cell_type": "markdown",
   "id": "7a8ba718",
   "metadata": {},
   "source": [
    "#### Портрет пользователя из Японии"
   ]
  },
  {
   "cell_type": "code",
   "execution_count": 54,
   "id": "c44f29f6",
   "metadata": {},
   "outputs": [
    {
     "data": {
      "text/html": [
       "<div>\n",
       "<style scoped>\n",
       "    .dataframe tbody tr th:only-of-type {\n",
       "        vertical-align: middle;\n",
       "    }\n",
       "\n",
       "    .dataframe tbody tr th {\n",
       "        vertical-align: top;\n",
       "    }\n",
       "\n",
       "    .dataframe thead th {\n",
       "        text-align: right;\n",
       "    }\n",
       "</style>\n",
       "<table border=\"1\" class=\"dataframe\">\n",
       "  <thead>\n",
       "    <tr style=\"text-align: right;\">\n",
       "      <th></th>\n",
       "      <th>jp_sales</th>\n",
       "    </tr>\n",
       "    <tr>\n",
       "      <th>platform</th>\n",
       "      <th></th>\n",
       "    </tr>\n",
       "  </thead>\n",
       "  <tbody>\n",
       "    <tr>\n",
       "      <td>3DS</td>\n",
       "      <td>87.79</td>\n",
       "    </tr>\n",
       "    <tr>\n",
       "      <td>PS3</td>\n",
       "      <td>35.29</td>\n",
       "    </tr>\n",
       "    <tr>\n",
       "      <td>PSV</td>\n",
       "      <td>21.04</td>\n",
       "    </tr>\n",
       "    <tr>\n",
       "      <td>PS4</td>\n",
       "      <td>15.96</td>\n",
       "    </tr>\n",
       "    <tr>\n",
       "      <td>WiiU</td>\n",
       "      <td>13.01</td>\n",
       "    </tr>\n",
       "  </tbody>\n",
       "</table>\n",
       "</div>"
      ],
      "text/plain": [
       "          jp_sales\n",
       "platform          \n",
       "3DS          87.79\n",
       "PS3          35.29\n",
       "PSV          21.04\n",
       "PS4          15.96\n",
       "WiiU         13.01"
      ]
     },
     "execution_count": 54,
     "metadata": {},
     "output_type": "execute_result"
    }
   ],
   "source": [
    "#Самые популярные платформы\n",
    "df.pivot_table(index = 'platform', values = 'jp_sales', aggfunc = 'sum').sort_values(by = 'jp_sales', ascending = False).head()"
   ]
  },
  {
   "cell_type": "code",
   "execution_count": 55,
   "id": "8af9ab7f",
   "metadata": {},
   "outputs": [
    {
     "data": {
      "text/html": [
       "<div>\n",
       "<style scoped>\n",
       "    .dataframe tbody tr th:only-of-type {\n",
       "        vertical-align: middle;\n",
       "    }\n",
       "\n",
       "    .dataframe tbody tr th {\n",
       "        vertical-align: top;\n",
       "    }\n",
       "\n",
       "    .dataframe thead th {\n",
       "        text-align: right;\n",
       "    }\n",
       "</style>\n",
       "<table border=\"1\" class=\"dataframe\">\n",
       "  <thead>\n",
       "    <tr style=\"text-align: right;\">\n",
       "      <th></th>\n",
       "      <th>jp_sales</th>\n",
       "    </tr>\n",
       "    <tr>\n",
       "      <th>genre</th>\n",
       "      <th></th>\n",
       "    </tr>\n",
       "  </thead>\n",
       "  <tbody>\n",
       "    <tr>\n",
       "      <td>Role-Playing</td>\n",
       "      <td>0.06</td>\n",
       "    </tr>\n",
       "    <tr>\n",
       "      <td>Fighting</td>\n",
       "      <td>0.03</td>\n",
       "    </tr>\n",
       "    <tr>\n",
       "      <td>Misc</td>\n",
       "      <td>0.02</td>\n",
       "    </tr>\n",
       "    <tr>\n",
       "      <td>Action</td>\n",
       "      <td>0.01</td>\n",
       "    </tr>\n",
       "    <tr>\n",
       "      <td>Adventure</td>\n",
       "      <td>0.01</td>\n",
       "    </tr>\n",
       "  </tbody>\n",
       "</table>\n",
       "</div>"
      ],
      "text/plain": [
       "              jp_sales\n",
       "genre                 \n",
       "Role-Playing      0.06\n",
       "Fighting          0.03\n",
       "Misc              0.02\n",
       "Action            0.01\n",
       "Adventure         0.01"
      ]
     },
     "execution_count": 55,
     "metadata": {},
     "output_type": "execute_result"
    }
   ],
   "source": [
    "#Самые популярные жанры \n",
    "df_jp = df.pivot_table(index = 'genre', values = 'jp_sales', aggfunc = 'median').sort_values(by = 'jp_sales', ascending = False).head()\n",
    "df_jp"
   ]
  },
  {
   "cell_type": "code",
   "execution_count": 56,
   "id": "45ff64e7",
   "metadata": {},
   "outputs": [
    {
     "data": {
      "text/html": [
       "<div>\n",
       "<style scoped>\n",
       "    .dataframe tbody tr th:only-of-type {\n",
       "        vertical-align: middle;\n",
       "    }\n",
       "\n",
       "    .dataframe tbody tr th {\n",
       "        vertical-align: top;\n",
       "    }\n",
       "\n",
       "    .dataframe thead th {\n",
       "        text-align: right;\n",
       "    }\n",
       "</style>\n",
       "<table border=\"1\" class=\"dataframe\">\n",
       "  <thead>\n",
       "    <tr style=\"text-align: right;\">\n",
       "      <th></th>\n",
       "      <th>jp_sales</th>\n",
       "    </tr>\n",
       "    <tr>\n",
       "      <th>genre</th>\n",
       "      <th></th>\n",
       "    </tr>\n",
       "  </thead>\n",
       "  <tbody>\n",
       "    <tr>\n",
       "      <td>Role-Playing</td>\n",
       "      <td>65.44</td>\n",
       "    </tr>\n",
       "    <tr>\n",
       "      <td>Action</td>\n",
       "      <td>52.80</td>\n",
       "    </tr>\n",
       "    <tr>\n",
       "      <td>Misc</td>\n",
       "      <td>12.86</td>\n",
       "    </tr>\n",
       "    <tr>\n",
       "      <td>Simulation</td>\n",
       "      <td>10.41</td>\n",
       "    </tr>\n",
       "    <tr>\n",
       "      <td>Fighting</td>\n",
       "      <td>9.44</td>\n",
       "    </tr>\n",
       "  </tbody>\n",
       "</table>\n",
       "</div>"
      ],
      "text/plain": [
       "              jp_sales\n",
       "genre                 \n",
       "Role-Playing     65.44\n",
       "Action           52.80\n",
       "Misc             12.86\n",
       "Simulation       10.41\n",
       "Fighting          9.44"
      ]
     },
     "execution_count": 56,
     "metadata": {},
     "output_type": "execute_result"
    }
   ],
   "source": [
    "#Самые популярные жанры \n",
    "df_jp = df.pivot_table(index = 'genre', values = 'jp_sales', aggfunc = 'sum').sort_values(by = 'jp_sales', ascending = False).head()\n",
    "df_jp"
   ]
  },
  {
   "cell_type": "code",
   "execution_count": 57,
   "id": "504a5eed",
   "metadata": {},
   "outputs": [
    {
     "data": {
      "text/plain": [
       "<matplotlib.axes._subplots.AxesSubplot at 0x7f44a1fca1d0>"
      ]
     },
     "execution_count": 57,
     "metadata": {},
     "output_type": "execute_result"
    },
    {
     "data": {
      "image/png": "[encoded data removed]",
      "text/plain": [
       "<Figure size 432x288 with 1 Axes>"
      ]
     },
     "metadata": {
      "needs_background": "light"
     },
     "output_type": "display_data"
    }
   ],
   "source": [
    "#Влияет ли рейтинг ESRB на продажи в регионе?\n",
    "df.pivot_table(index = 'rating', values = 'jp_sales', aggfunc = 'sum').sort_values(by = 'jp_sales', ascending =False).plot(kind = 'bar')"
   ]
  },
  {
   "cell_type": "markdown",
   "id": "039bb418",
   "metadata": {},
   "source": [
    "Портрет пользователя из Японии:\n",
    "1. Первое, что бросается в глаза - суммарные продажи(даже без подсчета суммы) явно ниже чем в СА и Европе, что может говорить о том, что японцы меньше покупают компьютерыне игры, что очень настораживает, поскольку Япония лидирует по доходности в индустрии компьютерных игр;\n",
    "2. Самый популярный жанр здесь отнюдь не шутеры, а ролевые игры; топ 5 завершают игры, связанные с борьбой;\n",
    "3. Основные продажи приходятся на игры без возрастных ограничений, однако второе место занимают не игры для взрослых, а игры для подростков, что вероятно может указывать на то, что компьютерные игры актуальны среди подростков в Японии"
   ]
  },
  {
   "cell_type": "markdown",
   "id": "d74b1776",
   "metadata": {},
   "source": [
    "<div class=\"alert alert-success\">\n",
    "    \n",
    "<b> Комментарий от ревьюера</b>\n",
    "    \n",
    "Молодец, ты хорошо справилась с составлением портретов пользователей\n",
    "</div>"
   ]
  },
  {
   "cell_type": "markdown",
   "id": "09c5549e",
   "metadata": {},
   "source": [
    "## Проверка гипотез"
   ]
  },
  {
   "cell_type": "markdown",
   "id": "e8a0d03a",
   "metadata": {},
   "source": [
    "#### Пользовательские рейтинги платформ"
   ]
  },
  {
   "cell_type": "markdown",
   "id": "d01db10c",
   "metadata": {},
   "source": [
    "1. H0: Средние пользовательские рейтинги платформ Xbox One(XOne) и PC одинаковые\n",
    "2. H1: Средние пользовательские рейтинги платформ Xbox One(XOne) и PC разные"
   ]
  },
  {
   "cell_type": "markdown",
   "id": "47eeff6f",
   "metadata": {},
   "source": [
    "<div class=\"alert alert-warning\">\n",
    "    \n",
    "<b> Комментарий от ревьюера</b>\n",
    "    \n",
    "К вопросу об актуальном периоде. Тут мы проверяем гипотезу про XOne, получается это важная для нас платформа, но она нигде раньше не упоминалась в исследовании\n",
    "</div>"
   ]
  },
  {
   "cell_type": "markdown",
   "id": "de1b9297",
   "metadata": {},
   "source": [
    "Для проверки гипотез будет применен критерий t-Стъюдента"
   ]
  },
  {
   "cell_type": "markdown",
   "id": "8348f806",
   "metadata": {},
   "source": [
    "Я ниже провела тестирование гипотезы, но совсем не понимаю, почему выдает ошибку при использовании индексов?"
   ]
  },
  {
   "cell_type": "code",
   "execution_count": 58,
   "id": "fb0d227f",
   "metadata": {},
   "outputs": [],
   "source": [
    "# df_hyp1 = df.query('platform in (\"XOne\", \"PC\")')\n",
    "# df_hyp1 = df.pivot_table(index = 'platform', values = 'user_score', aggfunc = 'mean')\n",
    "# alpha = 0.05\n",
    "# results = st.ttest_ind(df_hyp1[4], df_hyp1[15])\n",
    "# if results.pvalue < alpha:\n",
    "#    print('Отвергаем нулевую гипотезу')\n",
    "# else:\n",
    "#   print('Невозможно отвергнуть нулевую гипотезу')"
   ]
  },
  {
   "cell_type": "markdown",
   "id": "ca62399d",
   "metadata": {},
   "source": [
    "<div class=\"alert alert-success\">\n",
    "    \n",
    "<b> Комментарий от ревьюера</b>\n",
    "    \n",
    "> не понимаю, почему выдает ошибку при использовании индексов?\n",
    "    \n",
    "Потому что ты используешь в качестве индексов названия платформ. Можно было сбросить индексы через reset_index или обращаться к значениям с помощью названия платформ. Но в любом случае, строка df_hyp1[4] не стала бы работать, потому что df_hyp1 - это pd.DataFrame. Чтобы обращаться по номеру можно привести к массиву:  \n",
    "`df_hyp1.user_score.to_list()[4]`  \n",
    "либо использовать срез данных:  \n",
    "`df_hyp1.reset_index()[4:5]`\n",
    "</div>\n",
    "\n"
   ]
  },
  {
   "cell_type": "markdown",
   "id": "1d14613c",
   "metadata": {},
   "source": [
    "<div class=\"alert alert-warning\">\n",
    "    \n",
    "<b> Комментарий от ревьюера</b>\n",
    "    \n",
    "Но тут сама идея была не очень, потому что в st.ttest_ind нужно передавать выборки, а не средние значения выборок. Может быть стоит еще раз посмотреть теорию из тренажера\n",
    "</div>\n"
   ]
  },
  {
   "cell_type": "markdown",
   "id": "484bff32",
   "metadata": {},
   "source": [
    "<div class=\"alert alert-info\">\n",
    "<h2> Комментарий студента</h2>\n",
    "\n",
    "Все поняла. Спасибо за объяснение.\n",
    "</div>\n"
   ]
  },
  {
   "cell_type": "code",
   "execution_count": 59,
   "id": "9b4545cb",
   "metadata": {},
   "outputs": [],
   "source": [
    "df_hyp1_PC = df.query('platform == \"PC\"')\n",
    "df_hyp1_Xbox = df.query('platform == \"XOne\"')"
   ]
  },
  {
   "cell_type": "code",
   "execution_count": 60,
   "id": "2b1d015f",
   "metadata": {},
   "outputs": [
    {
     "name": "stdout",
     "output_type": "stream",
     "text": [
      "Невозможно отвергнуть нулевую гипотезу при p-value равному 0.5535080500642724\n"
     ]
    }
   ],
   "source": [
    "alpha = 0.05\n",
    "results = st.ttest_ind(df_hyp1_PC['user_score'], df_hyp1_Xbox['user_score'], nan_policy = 'omit')\n",
    "\n",
    "if results.pvalue < alpha:\n",
    "    print('Отвергаем нулевую гипотезу', 'при p-value равному {}'.format(results.pvalue))\n",
    "else:\n",
    "    print('Невозможно отвергнуть нулевую гипотезу', 'при p-value равному {}'.format(results.pvalue))"
   ]
  },
  {
   "cell_type": "markdown",
   "id": "e30c9866",
   "metadata": {},
   "source": [
    "Вывод: результаты тестирования говорят, что с 95% вероятностью средние пользовательские рейтинги на платформе Xbox One и PC одинаковые."
   ]
  },
  {
   "cell_type": "markdown",
   "id": "be770711",
   "metadata": {},
   "source": [
    "<div class=\"alert alert-danger\">\n",
    "    \n",
    "<b> Комментарий от ревьюера</b>\n",
    "    \n",
    "Ты правильно сформулировала гипотезу и правильно выбрала метод проверки, но по факту ты не проверила гипотезу, потому что сейчас у тебя pvalue = nan. Это случилось потому, что в df_hyp1_PC['user_score'] и df_hyp1_Xbox['user_score'] есть пропуски. Нужно либо удалить их, либо указать соответствующий параметр в st.ttest_ind, чтобы пропущенные значения игнорировались.\n",
    "    \n",
    "Нужный параметр можешь найти в [документации](https://docs.scipy.org/doc/scipy/reference/generated/scipy.stats.ttest_ind.html). И выводи, пожалуйста, всегда значение pvalue на экран\n",
    "    \n",
    "То же самое касается проверки второй гипотезы\n",
    "</div>"
   ]
  },
  {
   "cell_type": "markdown",
   "id": "f7c3a4e2",
   "metadata": {},
   "source": [
    "<div class=\"alert alert-info\">\n",
    "<h2> Комментарий студента</h2>\n",
    "\n",
    "Спасибо! Даже не подумала, что пропуски могут как-то повлиять на проверку гипотез, но и не проверила p-value.\n",
    "</div>\n"
   ]
  },
  {
   "cell_type": "markdown",
   "id": "564ea36a",
   "metadata": {},
   "source": [
    "<div class=\"alert alert-success\">\n",
    "    \n",
    "<b> Комментарий от ревьюера 2</b>\n",
    "\n",
    "Молодец, что поправила код\n",
    "\n",
    "</div>"
   ]
  },
  {
   "cell_type": "markdown",
   "id": "cf9da179",
   "metadata": {},
   "source": [
    "#### Пользовательские рейтинги жанров "
   ]
  },
  {
   "cell_type": "markdown",
   "id": "c8d43096",
   "metadata": {},
   "source": [
    "1. H0: Средние пользовательские рейтинги жанров Action и Sports одинаковые\n",
    "2. H1: Средние пользовательские рейтинги жанров Action и Sports разные"
   ]
  },
  {
   "cell_type": "code",
   "execution_count": 61,
   "id": "7c6c53c4",
   "metadata": {},
   "outputs": [],
   "source": [
    "df_hyp2_Ac = df.query('genre ==\"Action\"')\n",
    "df_hyp2_Sp = df.query('genre ==\"Sports\"')"
   ]
  },
  {
   "cell_type": "code",
   "execution_count": 62,
   "id": "1d7182c1",
   "metadata": {},
   "outputs": [
    {
     "name": "stdout",
     "output_type": "stream",
     "text": [
      "Отвергает нулевую гипотезу при p-value равному 3.716308946093586e-26\n"
     ]
    }
   ],
   "source": [
    "alpha = 0.05\n",
    "results = st.ttest_ind(df_hyp2_Ac['user_score'],df_hyp2_Sp['user_score'], nan_policy = 'omit')\n",
    "if results.pvalue < alpha:\n",
    "    print('Отвергает нулевую гипотезу', 'при p-value равному {}'.format(results.pvalue))\n",
    "else:\n",
    "    print('Невозможно отвергнуть нулевую гипотезу', 'при p-value равному {}'.format(results.pvalue))"
   ]
  },
  {
   "cell_type": "markdown",
   "id": "4e72ac1d",
   "metadata": {},
   "source": [
    "Вывод: с вероятностью 95% средние пользовательские рейтинги по жанру экшен и спорт разные."
   ]
  },
  {
   "cell_type": "markdown",
   "id": "155c4652",
   "metadata": {},
   "source": [
    "## Общий вывод"
   ]
  },
  {
   "cell_type": "markdown",
   "id": "e462747f",
   "metadata": {},
   "source": [
    "1. Количество продаж игр растет с каждым годом до 2012 года, в последующие года продажи постепенно падают;\n",
    "2. В качестве актуального периода был выбран период с 2011 по 2016 года;\n",
    "3. Самыми прибыльными платформами по всему миру являются: PS3, X360, PS4,XOne,3DS; средняя продолжительнось жизни платформ в среднем 6-8 лет; связь между оценками критиков и продажами (на 5 платформах) положительна, но достаточно слабая ; связи между оценками пользователей и продажами не обнаружено, поэтому можем предположить, что люди при выборе игр опираются на оценки критиков, но никак не на оценки других пользователей, что веротянее всего логично, поскольку пользователи как правило трактуют отзывы исходя из личных предпочтений без объективных оценок;\n",
    "4. Самые популярные игровые  жанры: шутеры, спорт и шплатформеры; самые не прибыльные жанры -пазлы и приключения;\n",
    "5. Типичный портрет покупателя из Северной Америки аналогичен портрету усредненного покупателя по всему миру; по возрастной категории - люди в больше степени отдают предпочтения играм 18+, на втором месте - игры без возрастных ограничений;\n",
    "6. Типичный портрет покупателя из Европы схож с портретом из Северной Америки, исключение составляет, что в топ 5 жанров входят симуляторы;\n",
    "7. Типичный портрет японца сильно отличается от остальных регионов; сразу отмечается, что продажи игр здесь значительно ниже по сравнению с остальными регионам; самым популярным жанром являются ролевые игры; самые популярные игры здесь  без возрастных ограничений, а на втором месте - игры для подростков;\n",
    "8. Пользовательсткие рейтинги на платформах Xbox One и PC в среднем не отличаются;\n",
    "9. Пользовательские рейтинги по жанрам экшн и спорт отличаются в среднем.\n"
   ]
  },
  {
   "cell_type": "markdown",
   "id": "7e8adf7e",
   "metadata": {},
   "source": [
    "Критерии потенциально-популярного продукта: \n",
    "1. возрастная категория продукта 18+ или без возрастных ограничений;\n",
    "2. принадлежит к жанру шутеры, сплатформеры, ролевые игры или гонки;\n",
    "3. платформы : PS4 или X360;\n",
    "4. также есть намек"
   ]
  },
  {
   "cell_type": "markdown",
   "id": "932d4602",
   "metadata": {},
   "source": [
    "<div class=\"alert alert-success\">\n",
    "    \n",
    "<b> Комментарий от ревьюера</b>\n",
    "    \n",
    "Хороший вывод\n",
    "</div>\n"
   ]
  },
  {
   "cell_type": "markdown",
   "id": "e03b664b",
   "metadata": {},
   "source": [
    "<div class=\"alert alert-success\">\n",
    "    \n",
    "<b> Комментарий от ревьюера</b>\n",
    "    \n",
    "Спасибо за твою работу! Ты хорошо справилась с подготовкой и анализом данных, у тебя получились отличные графики и логичные выводы\n",
    "\n",
    "Осталось немного доработать проект:\n",
    "\n",
    "- изменить актуальный период\n",
    "- добавить еще боксплот без группировки данных по годам\n",
    "- посчитать медианные продажи по жанрам\n",
    "- поправить данные для проверки гипотез\n",
    "\n",
    "Обрати внимание, что эти изменения могут сильно повлиять на данные. Проверь, пожалуйста, все комментарии и выводы перед отправкой проекта.\n",
    "\n",
    "Жду твои исправления:)\n",
    "\n",
    "</div>"
   ]
  },
  {
   "cell_type": "markdown",
   "id": "994f7964",
   "metadata": {},
   "source": [
    "<div class=\"alert alert-success\">\n",
    "    \n",
    "<b> Комментарий от ревьюера 2</b>\n",
    "\n",
    "Осталось доделать совсем чуть-чуть:\n",
    "    \n",
    "- построить боксплот по данным без группировки по годам\n",
    "    \n",
    "Жду твои исправления\n",
    "\n",
    "</div>"
   ]
  },
  {
   "cell_type": "markdown",
   "id": "733fa4e1",
   "metadata": {},
   "source": [
    "<div class=\"alert alert-info\">\n",
    "<h2> Комментарий студента 2</h2>\n",
    "\n",
    "Спасибо за ревью. Все было понятно и супер полезно)\n",
    "</div>"
   ]
  },
  {
   "cell_type": "markdown",
   "id": "9648b1df",
   "metadata": {},
   "source": [
    "<div class=\"alert alert-success\">\n",
    "<b> Комментарий от ревьюера 3</b>\n",
    "\n",
    "Спасибо, что учла мои комментарии. Надеюсь, эта работа была полезна для тебя. Я принимаю твой проект и желаю удачи в прохождении курса!\n",
    "\n",
    "</div>\n"
   ]
  }
 ],
 "metadata": {
  "ExecuteTimeLog": [
   {
    "duration": 1373,
    "start_time": "2021-07-10T17:39:19.750Z"
   },
   {
    "duration": 50,
    "start_time": "2021-07-10T17:39:21.126Z"
   },
   {
    "duration": 4,
    "start_time": "2021-07-10T17:39:21.183Z"
   },
   {
    "duration": 27,
    "start_time": "2021-07-10T17:39:21.190Z"
   },
   {
    "duration": 10,
    "start_time": "2021-07-10T17:39:21.220Z"
   },
   {
    "duration": 13,
    "start_time": "2021-07-10T17:39:21.256Z"
   },
   {
    "duration": 13,
    "start_time": "2021-07-10T17:39:21.273Z"
   },
   {
    "duration": 75,
    "start_time": "2021-07-10T17:39:21.289Z"
   },
   {
    "duration": 13,
    "start_time": "2021-07-10T17:39:21.366Z"
   },
   {
    "duration": 7,
    "start_time": "2021-07-10T17:39:21.382Z"
   },
   {
    "duration": 27,
    "start_time": "2021-07-10T17:39:21.391Z"
   },
   {
    "duration": 44,
    "start_time": "2021-07-10T17:39:21.420Z"
   },
   {
    "duration": 12,
    "start_time": "2021-07-10T17:39:21.467Z"
   },
   {
    "duration": 6,
    "start_time": "2021-07-10T17:39:21.482Z"
   },
   {
    "duration": 350,
    "start_time": "2021-07-10T17:39:21.491Z"
   },
   {
    "duration": 26,
    "start_time": "2021-07-10T17:39:21.844Z"
   },
   {
    "duration": 21,
    "start_time": "2021-07-10T17:39:21.873Z"
   },
   {
    "duration": 9,
    "start_time": "2021-07-10T17:39:21.896Z"
   },
   {
    "duration": 70,
    "start_time": "2021-07-10T17:39:21.908Z"
   },
   {
    "duration": 376,
    "start_time": "2021-07-10T17:39:21.981Z"
   },
   {
    "duration": 40,
    "start_time": "2021-07-10T17:39:22.360Z"
   },
   {
    "duration": 7,
    "start_time": "2021-07-10T17:39:22.406Z"
   },
   {
    "duration": 434,
    "start_time": "2021-07-10T17:39:22.416Z"
   },
   {
    "duration": 406,
    "start_time": "2021-07-10T17:39:22.855Z"
   },
   {
    "duration": 9,
    "start_time": "2021-07-10T17:39:23.264Z"
   },
   {
    "duration": 15,
    "start_time": "2021-07-10T17:39:23.276Z"
   },
   {
    "duration": 355,
    "start_time": "2021-07-10T17:39:23.294Z"
   },
   {
    "duration": 465,
    "start_time": "2021-07-10T17:39:23.655Z"
   },
   {
    "duration": 537,
    "start_time": "2021-07-10T17:39:24.123Z"
   },
   {
    "duration": 7,
    "start_time": "2021-07-10T17:39:24.664Z"
   },
   {
    "duration": 29,
    "start_time": "2021-07-10T17:39:24.674Z"
   },
   {
    "duration": 48,
    "start_time": "2021-07-10T17:39:24.707Z"
   },
   {
    "duration": 39,
    "start_time": "2021-07-10T17:39:24.758Z"
   },
   {
    "duration": 33,
    "start_time": "2021-07-10T17:39:24.801Z"
   },
   {
    "duration": 344,
    "start_time": "2021-07-10T17:39:24.838Z"
   },
   {
    "duration": 20,
    "start_time": "2021-07-10T17:39:25.184Z"
   },
   {
    "duration": 27,
    "start_time": "2021-07-10T17:39:25.207Z"
   },
   {
    "duration": 179,
    "start_time": "2021-07-10T17:39:25.254Z"
   },
   {
    "duration": 333,
    "start_time": "2021-07-10T17:39:25.437Z"
   },
   {
    "duration": 20,
    "start_time": "2021-07-10T17:39:25.772Z"
   },
   {
    "duration": 20,
    "start_time": "2021-07-10T17:39:25.794Z"
   },
   {
    "duration": 209,
    "start_time": "2021-07-10T17:39:25.817Z"
   },
   {
    "duration": 278,
    "start_time": "2021-07-10T17:39:26.029Z"
   },
   {
    "duration": 3,
    "start_time": "2021-07-10T17:39:26.310Z"
   },
   {
    "duration": 17,
    "start_time": "2021-07-10T17:39:26.315Z"
   },
   {
    "duration": 6,
    "start_time": "2021-07-10T17:39:26.334Z"
   },
   {
    "duration": 11,
    "start_time": "2021-07-10T17:39:26.355Z"
   },
   {
    "duration": 10,
    "start_time": "2021-07-10T17:39:26.368Z"
   },
   {
    "duration": 5,
    "start_time": "2021-07-10T17:40:00.995Z"
   },
   {
    "duration": 415,
    "start_time": "2021-07-10T17:57:42.049Z"
   },
   {
    "duration": 16,
    "start_time": "2021-07-10T17:58:00.585Z"
   },
   {
    "duration": 11,
    "start_time": "2021-07-10T17:58:08.581Z"
   },
   {
    "duration": 6,
    "start_time": "2021-07-10T18:23:03.517Z"
   },
   {
    "duration": 7241,
    "start_time": "2021-07-10T18:28:52.357Z"
   },
   {
    "duration": 11,
    "start_time": "2021-07-10T18:29:05.523Z"
   },
   {
    "duration": 6254,
    "start_time": "2021-07-10T18:29:20.409Z"
   },
   {
    "duration": 11,
    "start_time": "2021-07-10T18:29:33.064Z"
   },
   {
    "duration": 5881,
    "start_time": "2021-07-10T18:29:46.325Z"
   },
   {
    "duration": 16,
    "start_time": "2021-07-10T18:29:54.152Z"
   },
   {
    "duration": 12,
    "start_time": "2021-07-10T18:30:00.911Z"
   },
   {
    "duration": 12,
    "start_time": "2021-07-10T18:30:06.247Z"
   },
   {
    "duration": 4,
    "start_time": "2021-07-10T18:30:13.730Z"
   },
   {
    "duration": 9,
    "start_time": "2021-07-10T18:30:58.614Z"
   },
   {
    "duration": 5973,
    "start_time": "2021-07-10T18:31:05.069Z"
   },
   {
    "duration": 13,
    "start_time": "2021-07-10T18:31:12.517Z"
   },
   {
    "duration": 11,
    "start_time": "2021-07-10T18:31:18.664Z"
   },
   {
    "duration": 7,
    "start_time": "2021-07-10T18:31:30.782Z"
   },
   {
    "duration": 237,
    "start_time": "2021-07-10T18:32:52.035Z"
   },
   {
    "duration": 250,
    "start_time": "2021-07-10T18:32:53.805Z"
   },
   {
    "duration": 6,
    "start_time": "2021-07-10T18:33:03.241Z"
   },
   {
    "duration": 5,
    "start_time": "2021-07-10T18:33:11.704Z"
   },
   {
    "duration": 13,
    "start_time": "2021-07-10T18:38:24.921Z"
   },
   {
    "duration": 7,
    "start_time": "2021-07-10T18:38:25.624Z"
   },
   {
    "duration": 6,
    "start_time": "2021-07-10T18:38:31.756Z"
   },
   {
    "duration": 266,
    "start_time": "2021-07-11T18:28:12.534Z"
   },
   {
    "duration": 1020,
    "start_time": "2021-07-11T18:28:18.647Z"
   },
   {
    "duration": 35,
    "start_time": "2021-07-11T18:28:19.669Z"
   },
   {
    "duration": 3,
    "start_time": "2021-07-11T18:28:20.658Z"
   },
   {
    "duration": 15,
    "start_time": "2021-07-11T18:28:21.252Z"
   },
   {
    "duration": 8,
    "start_time": "2021-07-11T18:28:21.774Z"
   },
   {
    "duration": 13,
    "start_time": "2021-07-11T18:28:21.948Z"
   },
   {
    "duration": 9,
    "start_time": "2021-07-11T18:28:22.119Z"
   },
   {
    "duration": 26,
    "start_time": "2021-07-11T18:28:22.272Z"
   },
   {
    "duration": 9,
    "start_time": "2021-07-11T18:28:22.792Z"
   },
   {
    "duration": 5,
    "start_time": "2021-07-11T18:28:22.953Z"
   },
   {
    "duration": 15,
    "start_time": "2021-07-11T18:28:23.123Z"
   },
   {
    "duration": 11,
    "start_time": "2021-07-11T18:28:23.588Z"
   },
   {
    "duration": 8,
    "start_time": "2021-07-11T18:28:23.799Z"
   },
   {
    "duration": 8,
    "start_time": "2021-07-11T18:28:24.000Z"
   },
   {
    "duration": 166,
    "start_time": "2021-07-11T18:28:24.600Z"
   },
   {
    "duration": 14,
    "start_time": "2021-07-11T18:28:25.618Z"
   },
   {
    "duration": 15,
    "start_time": "2021-07-11T18:28:25.907Z"
   },
   {
    "duration": 6,
    "start_time": "2021-07-11T18:28:27.407Z"
   },
   {
    "duration": 24,
    "start_time": "2021-07-11T18:28:27.950Z"
   },
   {
    "duration": 309,
    "start_time": "2021-07-11T18:28:28.589Z"
   },
   {
    "duration": 288,
    "start_time": "2021-07-11T18:28:30.179Z"
   },
   {
    "duration": 12,
    "start_time": "2021-07-11T18:29:39.853Z"
   },
   {
    "duration": 252,
    "start_time": "2021-07-11T18:30:54.426Z"
   },
   {
    "duration": 226,
    "start_time": "2021-07-11T18:31:06.663Z"
   },
   {
    "duration": 226,
    "start_time": "2021-07-11T18:31:18.713Z"
   },
   {
    "duration": 11,
    "start_time": "2021-07-11T18:31:46.744Z"
   },
   {
    "duration": 9,
    "start_time": "2021-07-11T18:33:36.852Z"
   },
   {
    "duration": 9,
    "start_time": "2021-07-11T18:34:47.826Z"
   },
   {
    "duration": 9,
    "start_time": "2021-07-11T18:34:56.407Z"
   },
   {
    "duration": 9,
    "start_time": "2021-07-11T18:36:02.399Z"
   },
   {
    "duration": 9,
    "start_time": "2021-07-11T18:36:21.243Z"
   },
   {
    "duration": 11,
    "start_time": "2021-07-11T18:38:06.476Z"
   },
   {
    "duration": 279,
    "start_time": "2021-07-11T18:39:59.040Z"
   },
   {
    "duration": 2,
    "start_time": "2021-07-11T18:45:40.135Z"
   },
   {
    "duration": 35,
    "start_time": "2021-07-11T18:45:40.594Z"
   },
   {
    "duration": 3,
    "start_time": "2021-07-11T18:45:41.032Z"
   },
   {
    "duration": 13,
    "start_time": "2021-07-11T18:45:42.251Z"
   },
   {
    "duration": 6,
    "start_time": "2021-07-11T18:45:42.469Z"
   },
   {
    "duration": 8,
    "start_time": "2021-07-11T18:45:43.079Z"
   },
   {
    "duration": 9,
    "start_time": "2021-07-11T18:45:43.729Z"
   },
   {
    "duration": 25,
    "start_time": "2021-07-11T18:45:44.882Z"
   },
   {
    "duration": 9,
    "start_time": "2021-07-11T18:45:46.774Z"
   },
   {
    "duration": 6,
    "start_time": "2021-07-11T18:45:47.072Z"
   },
   {
    "duration": 17,
    "start_time": "2021-07-11T18:45:47.844Z"
   },
   {
    "duration": 14,
    "start_time": "2021-07-11T18:45:48.949Z"
   },
   {
    "duration": 8,
    "start_time": "2021-07-11T18:45:49.569Z"
   },
   {
    "duration": 4,
    "start_time": "2021-07-11T18:45:50.116Z"
   },
   {
    "duration": 164,
    "start_time": "2021-07-11T18:45:51.530Z"
   },
   {
    "duration": 15,
    "start_time": "2021-07-11T18:45:53.051Z"
   },
   {
    "duration": 13,
    "start_time": "2021-07-11T18:45:53.661Z"
   },
   {
    "duration": 6,
    "start_time": "2021-07-11T18:45:55.299Z"
   },
   {
    "duration": 24,
    "start_time": "2021-07-11T18:45:56.075Z"
   },
   {
    "duration": 201,
    "start_time": "2021-07-11T18:45:58.252Z"
   },
   {
    "duration": 10,
    "start_time": "2021-07-11T18:46:01.226Z"
   },
   {
    "duration": 290,
    "start_time": "2021-07-11T18:46:03.345Z"
   },
   {
    "duration": 24,
    "start_time": "2021-07-11T18:46:11.011Z"
   },
   {
    "duration": 22,
    "start_time": "2021-07-11T18:46:16.740Z"
   },
   {
    "duration": 6,
    "start_time": "2021-07-11T18:46:51.646Z"
   },
   {
    "duration": 253,
    "start_time": "2021-07-11T18:46:54.494Z"
   },
   {
    "duration": 233,
    "start_time": "2021-07-11T18:47:04.587Z"
   },
   {
    "duration": 5,
    "start_time": "2021-07-11T18:47:07.352Z"
   },
   {
    "duration": 3,
    "start_time": "2021-07-11T18:47:08.206Z"
   },
   {
    "duration": 3,
    "start_time": "2021-07-11T18:47:16.524Z"
   },
   {
    "duration": 34,
    "start_time": "2021-07-11T18:47:17.285Z"
   },
   {
    "duration": 3,
    "start_time": "2021-07-11T18:47:17.867Z"
   },
   {
    "duration": 12,
    "start_time": "2021-07-11T18:47:19.807Z"
   },
   {
    "duration": 6,
    "start_time": "2021-07-11T18:47:20.520Z"
   },
   {
    "duration": 9,
    "start_time": "2021-07-11T18:47:21.438Z"
   },
   {
    "duration": 11,
    "start_time": "2021-07-11T18:47:23.311Z"
   },
   {
    "duration": 27,
    "start_time": "2021-07-11T18:47:51.258Z"
   },
   {
    "duration": 9,
    "start_time": "2021-07-11T18:47:52.758Z"
   },
   {
    "duration": 7,
    "start_time": "2021-07-11T18:47:52.955Z"
   },
   {
    "duration": 17,
    "start_time": "2021-07-11T18:47:53.631Z"
   },
   {
    "duration": 12,
    "start_time": "2021-07-11T18:47:54.173Z"
   },
   {
    "duration": 10,
    "start_time": "2021-07-11T18:47:54.380Z"
   },
   {
    "duration": 5,
    "start_time": "2021-07-11T18:47:54.741Z"
   },
   {
    "duration": 168,
    "start_time": "2021-07-11T18:47:55.500Z"
   },
   {
    "duration": 16,
    "start_time": "2021-07-11T18:47:56.194Z"
   },
   {
    "duration": 14,
    "start_time": "2021-07-11T18:47:56.633Z"
   },
   {
    "duration": 7,
    "start_time": "2021-07-11T18:47:58.726Z"
   },
   {
    "duration": 24,
    "start_time": "2021-07-11T18:47:59.351Z"
   },
   {
    "duration": 264,
    "start_time": "2021-07-11T18:48:00.327Z"
   },
   {
    "duration": 11,
    "start_time": "2021-07-11T18:48:01.594Z"
   },
   {
    "duration": 294,
    "start_time": "2021-07-11T18:48:03.892Z"
   },
   {
    "duration": 29,
    "start_time": "2021-07-11T18:48:06.263Z"
   },
   {
    "duration": 6,
    "start_time": "2021-07-11T18:48:07.563Z"
   },
   {
    "duration": 250,
    "start_time": "2021-07-11T18:48:08.434Z"
   },
   {
    "duration": 233,
    "start_time": "2021-07-11T18:48:17.334Z"
   },
   {
    "duration": 5,
    "start_time": "2021-07-11T18:48:19.896Z"
   },
   {
    "duration": 5,
    "start_time": "2021-07-11T18:48:22.661Z"
   },
   {
    "duration": 15,
    "start_time": "2021-07-11T18:50:57.606Z"
   },
   {
    "duration": 187,
    "start_time": "2021-07-11T18:54:06.200Z"
   },
   {
    "duration": 2,
    "start_time": "2021-07-11T18:56:27.337Z"
   },
   {
    "duration": 3,
    "start_time": "2021-07-11T18:56:32.457Z"
   },
   {
    "duration": 13,
    "start_time": "2021-07-11T18:56:47.588Z"
   },
   {
    "duration": 16,
    "start_time": "2021-07-11T18:57:00.696Z"
   },
   {
    "duration": 14,
    "start_time": "2021-07-11T18:57:11.520Z"
   },
   {
    "duration": 162,
    "start_time": "2021-07-11T18:57:12.492Z"
   },
   {
    "duration": 14,
    "start_time": "2021-07-11T18:57:25.209Z"
   },
   {
    "duration": 147,
    "start_time": "2021-07-11T18:57:30.499Z"
   },
   {
    "duration": 15,
    "start_time": "2021-07-11T18:58:13.063Z"
   },
   {
    "duration": 209,
    "start_time": "2021-07-11T18:58:24.849Z"
   },
   {
    "duration": 14,
    "start_time": "2021-07-11T19:06:35.722Z"
   },
   {
    "duration": 218,
    "start_time": "2021-07-11T19:06:36.376Z"
   },
   {
    "duration": 20,
    "start_time": "2021-07-11T19:06:38.919Z"
   },
   {
    "duration": 5,
    "start_time": "2021-07-11T19:07:04.022Z"
   },
   {
    "duration": 248,
    "start_time": "2021-07-11T19:07:05.026Z"
   },
   {
    "duration": 269,
    "start_time": "2021-07-11T19:07:07.497Z"
   },
   {
    "duration": 5,
    "start_time": "2021-07-11T19:07:10.277Z"
   },
   {
    "duration": 4,
    "start_time": "2021-07-11T19:07:11.156Z"
   },
   {
    "duration": 15,
    "start_time": "2021-07-11T19:07:31.157Z"
   },
   {
    "duration": 215,
    "start_time": "2021-07-11T19:07:31.903Z"
   },
   {
    "duration": 19,
    "start_time": "2021-07-11T19:07:33.539Z"
   },
   {
    "duration": 5,
    "start_time": "2021-07-11T19:07:34.258Z"
   },
   {
    "duration": 373,
    "start_time": "2021-07-11T19:07:34.730Z"
   },
   {
    "duration": 327,
    "start_time": "2021-07-11T19:07:42.129Z"
   },
   {
    "duration": 5,
    "start_time": "2021-07-11T19:07:43.448Z"
   },
   {
    "duration": 5,
    "start_time": "2021-07-11T19:07:43.964Z"
   },
   {
    "duration": 169,
    "start_time": "2021-07-11T19:11:01.743Z"
   },
   {
    "duration": 258,
    "start_time": "2021-07-11T19:11:34.094Z"
   },
   {
    "duration": 222,
    "start_time": "2021-07-11T19:16:26.039Z"
   },
   {
    "duration": 16,
    "start_time": "2021-07-11T19:16:33.588Z"
   },
   {
    "duration": 12,
    "start_time": "2021-07-11T19:17:23.045Z"
   },
   {
    "duration": 13,
    "start_time": "2021-07-11T19:23:09.463Z"
   },
   {
    "duration": 206,
    "start_time": "2021-07-11T19:23:35.238Z"
   },
   {
    "duration": 271,
    "start_time": "2021-07-11T19:23:55.975Z"
   },
   {
    "duration": 210,
    "start_time": "2021-07-11T19:24:08.778Z"
   },
   {
    "duration": 116,
    "start_time": "2021-07-11T19:26:50.721Z"
   },
   {
    "duration": 136,
    "start_time": "2021-07-11T19:27:26.567Z"
   },
   {
    "duration": 139,
    "start_time": "2021-07-11T19:27:34.902Z"
   },
   {
    "duration": 257,
    "start_time": "2021-07-11T19:28:43.414Z"
   },
   {
    "duration": 247,
    "start_time": "2021-07-11T19:28:46.523Z"
   },
   {
    "duration": 4,
    "start_time": "2021-07-11T19:28:48.293Z"
   },
   {
    "duration": 4,
    "start_time": "2021-07-11T19:28:49.341Z"
   },
   {
    "duration": 13,
    "start_time": "2021-07-11T19:30:17.664Z"
   },
   {
    "duration": 12,
    "start_time": "2021-07-11T19:32:13.823Z"
   },
   {
    "duration": 227,
    "start_time": "2021-07-11T19:32:59.206Z"
   },
   {
    "duration": 16,
    "start_time": "2021-07-11T19:33:06.965Z"
   },
   {
    "duration": 212,
    "start_time": "2021-07-11T19:33:07.819Z"
   },
   {
    "duration": 17,
    "start_time": "2021-07-11T19:33:10.528Z"
   },
   {
    "duration": 5,
    "start_time": "2021-07-11T19:33:12.501Z"
   },
   {
    "duration": 387,
    "start_time": "2021-07-11T19:33:13.110Z"
   },
   {
    "duration": 282,
    "start_time": "2021-07-11T19:33:13.809Z"
   },
   {
    "duration": 4,
    "start_time": "2021-07-11T19:33:14.778Z"
   },
   {
    "duration": 5,
    "start_time": "2021-07-11T19:33:15.364Z"
   },
   {
    "duration": 161,
    "start_time": "2021-07-11T19:33:22.712Z"
   },
   {
    "duration": 134,
    "start_time": "2021-07-11T19:33:26.495Z"
   },
   {
    "duration": 134,
    "start_time": "2021-07-11T19:33:36.473Z"
   },
   {
    "duration": 312,
    "start_time": "2021-07-11T19:33:58.568Z"
   },
   {
    "duration": 231,
    "start_time": "2021-07-11T19:33:59.332Z"
   },
   {
    "duration": 4,
    "start_time": "2021-07-11T19:33:59.944Z"
   },
   {
    "duration": 4,
    "start_time": "2021-07-11T19:34:00.299Z"
   },
   {
    "duration": 13,
    "start_time": "2021-07-11T19:34:05.112Z"
   },
   {
    "duration": 12,
    "start_time": "2021-07-11T19:34:14.250Z"
   },
   {
    "duration": 239,
    "start_time": "2021-07-11T19:35:42.535Z"
   },
   {
    "duration": 14,
    "start_time": "2021-07-11T19:35:56.101Z"
   },
   {
    "duration": 13,
    "start_time": "2021-07-11T19:35:57.869Z"
   },
   {
    "duration": 250,
    "start_time": "2021-07-11T19:35:58.923Z"
   },
   {
    "duration": 242,
    "start_time": "2021-07-11T19:36:16.633Z"
   },
   {
    "duration": 18,
    "start_time": "2021-07-11T19:36:35.934Z"
   },
   {
    "duration": 12,
    "start_time": "2021-07-11T19:36:45.429Z"
   },
   {
    "duration": 12,
    "start_time": "2021-07-11T19:36:50.204Z"
   },
   {
    "duration": 12,
    "start_time": "2021-07-11T19:37:01.901Z"
   },
   {
    "duration": 12,
    "start_time": "2021-07-11T19:37:54.792Z"
   },
   {
    "duration": 15,
    "start_time": "2021-07-11T19:38:09.535Z"
   },
   {
    "duration": 13,
    "start_time": "2021-07-11T19:38:57.977Z"
   },
   {
    "duration": 12,
    "start_time": "2021-07-11T19:40:19.936Z"
   },
   {
    "duration": 12,
    "start_time": "2021-07-11T19:40:24.887Z"
   },
   {
    "duration": 139,
    "start_time": "2021-07-11T19:40:35.706Z"
   },
   {
    "duration": 12,
    "start_time": "2021-07-11T19:42:38.992Z"
   },
   {
    "duration": 12,
    "start_time": "2021-07-11T19:43:13.968Z"
   },
   {
    "duration": 12,
    "start_time": "2021-07-11T19:43:27.658Z"
   },
   {
    "duration": 90,
    "start_time": "2021-07-11T19:43:30.681Z"
   },
   {
    "duration": 145,
    "start_time": "2021-07-11T19:43:39.626Z"
   },
   {
    "duration": 13,
    "start_time": "2021-07-11T19:45:31.644Z"
   },
   {
    "duration": 13,
    "start_time": "2021-07-11T19:45:34.693Z"
   },
   {
    "duration": 12,
    "start_time": "2021-07-11T19:45:49.184Z"
   },
   {
    "duration": 140,
    "start_time": "2021-07-11T19:45:55.693Z"
   },
   {
    "duration": 13,
    "start_time": "2021-07-11T19:46:14.365Z"
   },
   {
    "duration": 13,
    "start_time": "2021-07-11T19:46:23.900Z"
   },
   {
    "duration": 251,
    "start_time": "2021-07-11T19:46:30.641Z"
   },
   {
    "duration": 139,
    "start_time": "2021-07-11T19:46:30.996Z"
   },
   {
    "duration": 12,
    "start_time": "2021-07-11T19:46:38.740Z"
   },
   {
    "duration": 144,
    "start_time": "2021-07-11T19:46:39.397Z"
   },
   {
    "duration": 12,
    "start_time": "2021-07-11T19:46:40.589Z"
   },
   {
    "duration": 12,
    "start_time": "2021-07-11T19:46:41.230Z"
   },
   {
    "duration": 12,
    "start_time": "2021-07-11T19:46:42.000Z"
   },
   {
    "duration": 2,
    "start_time": "2021-07-11T19:48:45.692Z"
   },
   {
    "duration": 7,
    "start_time": "2021-07-11T19:49:09.080Z"
   },
   {
    "duration": 4,
    "start_time": "2021-07-11T19:49:10.437Z"
   },
   {
    "duration": 4,
    "start_time": "2021-07-11T19:49:31.511Z"
   },
   {
    "duration": 5,
    "start_time": "2021-07-11T19:50:53.120Z"
   },
   {
    "duration": 5,
    "start_time": "2021-07-11T19:51:00.234Z"
   },
   {
    "duration": 6,
    "start_time": "2021-07-11T19:51:08.811Z"
   },
   {
    "duration": 5,
    "start_time": "2021-07-11T19:53:50.307Z"
   },
   {
    "duration": 6,
    "start_time": "2021-07-11T19:54:20.095Z"
   },
   {
    "duration": 6,
    "start_time": "2021-07-11T19:54:20.750Z"
   },
   {
    "duration": 5,
    "start_time": "2021-07-11T19:54:53.454Z"
   },
   {
    "duration": 7,
    "start_time": "2021-07-11T19:54:56.512Z"
   },
   {
    "duration": 5,
    "start_time": "2021-07-11T19:54:58.635Z"
   },
   {
    "duration": 8,
    "start_time": "2021-07-11T19:55:14.647Z"
   },
   {
    "duration": 7,
    "start_time": "2021-07-11T19:55:15.371Z"
   },
   {
    "duration": 1374,
    "start_time": "2021-07-12T09:37:09.878Z"
   },
   {
    "duration": 50,
    "start_time": "2021-07-12T09:37:11.255Z"
   },
   {
    "duration": 3,
    "start_time": "2021-07-12T09:37:11.309Z"
   },
   {
    "duration": 36,
    "start_time": "2021-07-12T09:37:11.315Z"
   },
   {
    "duration": 12,
    "start_time": "2021-07-12T09:37:11.354Z"
   },
   {
    "duration": 32,
    "start_time": "2021-07-12T09:37:11.368Z"
   },
   {
    "duration": 13,
    "start_time": "2021-07-12T09:37:11.402Z"
   },
   {
    "duration": 66,
    "start_time": "2021-07-12T09:37:11.419Z"
   },
   {
    "duration": 13,
    "start_time": "2021-07-12T09:37:11.488Z"
   },
   {
    "duration": 8,
    "start_time": "2021-07-12T09:37:11.503Z"
   },
   {
    "duration": 25,
    "start_time": "2021-07-12T09:37:11.513Z"
   },
   {
    "duration": 51,
    "start_time": "2021-07-12T09:37:11.540Z"
   },
   {
    "duration": 14,
    "start_time": "2021-07-12T09:37:11.594Z"
   },
   {
    "duration": 7,
    "start_time": "2021-07-12T09:37:11.610Z"
   },
   {
    "duration": 365,
    "start_time": "2021-07-12T09:37:11.620Z"
   },
   {
    "duration": 24,
    "start_time": "2021-07-12T09:37:11.987Z"
   },
   {
    "duration": 22,
    "start_time": "2021-07-12T09:37:12.013Z"
   },
   {
    "duration": 8,
    "start_time": "2021-07-12T09:37:12.038Z"
   },
   {
    "duration": 5,
    "start_time": "2021-07-12T09:37:12.048Z"
   },
   {
    "duration": 3,
    "start_time": "2021-07-12T09:37:12.086Z"
   },
   {
    "duration": 25,
    "start_time": "2021-07-12T09:37:12.091Z"
   },
   {
    "duration": 542,
    "start_time": "2021-07-12T09:37:12.118Z"
   },
   {
    "duration": 32,
    "start_time": "2021-07-12T09:37:12.666Z"
   },
   {
    "duration": 422,
    "start_time": "2021-07-12T09:37:12.701Z"
   },
   {
    "duration": 32,
    "start_time": "2021-07-12T09:37:13.131Z"
   },
   {
    "duration": 7,
    "start_time": "2021-07-12T09:37:13.185Z"
   },
   {
    "duration": 416,
    "start_time": "2021-07-12T09:37:13.194Z"
   },
   {
    "duration": 405,
    "start_time": "2021-07-12T09:37:13.613Z"
   },
   {
    "duration": 8,
    "start_time": "2021-07-12T09:37:14.020Z"
   },
   {
    "duration": 8,
    "start_time": "2021-07-12T09:37:14.031Z"
   },
   {
    "duration": 361,
    "start_time": "2021-07-12T09:37:14.041Z"
   },
   {
    "duration": 268,
    "start_time": "2021-07-12T09:37:14.404Z"
   },
   {
    "duration": 419,
    "start_time": "2021-07-12T09:37:14.675Z"
   },
   {
    "duration": 490,
    "start_time": "2021-07-12T09:37:15.098Z"
   },
   {
    "duration": 6,
    "start_time": "2021-07-12T09:37:15.591Z"
   },
   {
    "duration": 7,
    "start_time": "2021-07-12T09:37:15.600Z"
   },
   {
    "duration": 22,
    "start_time": "2021-07-12T09:37:15.610Z"
   },
   {
    "duration": 54,
    "start_time": "2021-07-12T09:37:15.634Z"
   },
   {
    "duration": 21,
    "start_time": "2021-07-12T09:37:15.690Z"
   },
   {
    "duration": 19,
    "start_time": "2021-07-12T09:37:15.713Z"
   },
   {
    "duration": 56,
    "start_time": "2021-07-12T09:37:15.734Z"
   },
   {
    "duration": 288,
    "start_time": "2021-07-12T09:37:15.792Z"
   },
   {
    "duration": 20,
    "start_time": "2021-07-12T09:37:16.086Z"
   },
   {
    "duration": 22,
    "start_time": "2021-07-12T09:37:16.108Z"
   },
   {
    "duration": 290,
    "start_time": "2021-07-12T09:37:16.132Z"
   },
   {
    "duration": 20,
    "start_time": "2021-07-12T09:37:16.424Z"
   },
   {
    "duration": 44,
    "start_time": "2021-07-12T09:37:16.447Z"
   },
   {
    "duration": 19,
    "start_time": "2021-07-12T09:37:16.494Z"
   },
   {
    "duration": 273,
    "start_time": "2021-07-12T09:37:16.515Z"
   },
   {
    "duration": 4,
    "start_time": "2021-07-12T09:37:16.790Z"
   },
   {
    "duration": 15,
    "start_time": "2021-07-12T09:37:16.797Z"
   },
   {
    "duration": 13,
    "start_time": "2021-07-12T09:37:16.814Z"
   },
   {
    "duration": 14,
    "start_time": "2021-07-12T09:37:16.830Z"
   },
   {
    "duration": 14,
    "start_time": "2021-07-12T09:37:16.846Z"
   },
   {
    "duration": 10,
    "start_time": "2021-07-12T09:40:36.743Z"
   },
   {
    "duration": 1400,
    "start_time": "2021-07-12T15:10:26.631Z"
   },
   {
    "duration": 45,
    "start_time": "2021-07-12T15:10:28.034Z"
   },
   {
    "duration": 3,
    "start_time": "2021-07-12T15:10:28.082Z"
   },
   {
    "duration": 25,
    "start_time": "2021-07-12T15:10:28.087Z"
   },
   {
    "duration": 11,
    "start_time": "2021-07-12T15:10:28.924Z"
   },
   {
    "duration": 11,
    "start_time": "2021-07-12T15:10:29.241Z"
   },
   {
    "duration": 15,
    "start_time": "2021-07-12T15:10:29.538Z"
   },
   {
    "duration": 44,
    "start_time": "2021-07-12T15:10:29.640Z"
   },
   {
    "duration": 12,
    "start_time": "2021-07-12T15:10:30.305Z"
   },
   {
    "duration": 8,
    "start_time": "2021-07-12T15:10:30.476Z"
   },
   {
    "duration": 22,
    "start_time": "2021-07-12T15:10:30.994Z"
   },
   {
    "duration": 18,
    "start_time": "2021-07-12T15:10:31.349Z"
   },
   {
    "duration": 12,
    "start_time": "2021-07-12T15:10:31.545Z"
   },
   {
    "duration": 10,
    "start_time": "2021-07-12T15:10:31.838Z"
   },
   {
    "duration": 304,
    "start_time": "2021-07-12T15:10:32.707Z"
   },
   {
    "duration": 23,
    "start_time": "2021-07-12T15:10:34.046Z"
   },
   {
    "duration": 20,
    "start_time": "2021-07-12T15:10:34.466Z"
   },
   {
    "duration": 9,
    "start_time": "2021-07-12T15:10:35.774Z"
   },
   {
    "duration": 3,
    "start_time": "2021-07-12T15:10:36.274Z"
   },
   {
    "duration": 4,
    "start_time": "2021-07-12T15:10:36.800Z"
   },
   {
    "duration": 15,
    "start_time": "2021-07-12T15:10:40.229Z"
   },
   {
    "duration": 534,
    "start_time": "2021-07-12T15:10:55.992Z"
   },
   {
    "duration": 512,
    "start_time": "2021-07-12T15:11:12.837Z"
   },
   {
    "duration": 12,
    "start_time": "2021-07-12T15:11:31.063Z"
   },
   {
    "duration": 533,
    "start_time": "2021-07-12T15:11:51.136Z"
   },
   {
    "duration": 25,
    "start_time": "2021-07-12T15:11:55.649Z"
   },
   {
    "duration": 406,
    "start_time": "2021-07-12T15:11:56.264Z"
   },
   {
    "duration": 36,
    "start_time": "2021-07-12T15:11:57.943Z"
   },
   {
    "duration": 7,
    "start_time": "2021-07-12T15:11:59.123Z"
   },
   {
    "duration": 406,
    "start_time": "2021-07-12T15:11:59.396Z"
   },
   {
    "duration": 450,
    "start_time": "2021-07-12T15:12:00.037Z"
   },
   {
    "duration": 8,
    "start_time": "2021-07-12T15:12:00.661Z"
   },
   {
    "duration": 7,
    "start_time": "2021-07-12T15:12:01.253Z"
   },
   {
    "duration": 333,
    "start_time": "2021-07-12T15:12:05.321Z"
   },
   {
    "duration": 325,
    "start_time": "2021-07-12T15:12:13.267Z"
   },
   {
    "duration": 7303,
    "start_time": "2021-07-12T15:13:02.682Z"
   },
   {
    "duration": 537,
    "start_time": "2021-07-12T15:14:00.371Z"
   },
   {
    "duration": 634,
    "start_time": "2021-07-12T15:14:40.428Z"
   },
   {
    "duration": 518,
    "start_time": "2021-07-12T15:15:34.923Z"
   },
   {
    "duration": 545,
    "start_time": "2021-07-12T15:17:33.611Z"
   },
   {
    "duration": 427,
    "start_time": "2021-07-12T15:19:04.355Z"
   },
   {
    "duration": 408,
    "start_time": "2021-07-12T15:19:04.785Z"
   },
   {
    "duration": 5,
    "start_time": "2021-07-12T15:19:05.196Z"
   },
   {
    "duration": 14,
    "start_time": "2021-07-12T15:19:05.203Z"
   },
   {
    "duration": 20,
    "start_time": "2021-07-12T15:19:08.031Z"
   },
   {
    "duration": 17,
    "start_time": "2021-07-12T15:19:09.252Z"
   },
   {
    "duration": 19,
    "start_time": "2021-07-12T15:19:09.832Z"
   },
   {
    "duration": 19,
    "start_time": "2021-07-12T15:19:11.958Z"
   },
   {
    "duration": 20,
    "start_time": "2021-07-12T15:19:12.241Z"
   },
   {
    "duration": 266,
    "start_time": "2021-07-12T15:19:12.264Z"
   },
   {
    "duration": 21,
    "start_time": "2021-07-12T15:19:13.623Z"
   },
   {
    "duration": 20,
    "start_time": "2021-07-12T15:19:13.977Z"
   },
   {
    "duration": 281,
    "start_time": "2021-07-12T15:19:14.148Z"
   },
   {
    "duration": 21,
    "start_time": "2021-07-12T15:19:14.657Z"
   },
   {
    "duration": 19,
    "start_time": "2021-07-12T15:19:14.817Z"
   },
   {
    "duration": 23,
    "start_time": "2021-07-12T15:19:14.977Z"
   },
   {
    "duration": 260,
    "start_time": "2021-07-12T15:19:15.168Z"
   },
   {
    "duration": 3,
    "start_time": "2021-07-12T15:19:17.334Z"
   },
   {
    "duration": 10,
    "start_time": "2021-07-12T15:19:19.336Z"
   },
   {
    "duration": 9,
    "start_time": "2021-07-12T15:19:19.640Z"
   },
   {
    "duration": 9,
    "start_time": "2021-07-12T15:19:21.672Z"
   },
   {
    "duration": 8,
    "start_time": "2021-07-12T15:19:21.862Z"
   }
  ],
  "kernelspec": {
   "display_name": "Python 3",
   "language": "python",
   "name": "python3"
  },
  "language_info": {
   "codemirror_mode": {
    "name": "ipython",
    "version": 3
   },
   "file_extension": ".py",
   "mimetype": "text/x-python",
   "name": "python",
   "nbconvert_exporter": "python",
   "pygments_lexer": "ipython3",
   "version": "3.8.8"
  },
  "toc": {
   "base_numbering": 1,
   "nav_menu": {},
   "number_sections": true,
   "sideBar": true,
   "skip_h1_title": true,
   "title_cell": "Table of Contents",
   "title_sidebar": "Contents",
   "toc_cell": false,
   "toc_position": {},
   "toc_section_display": true,
   "toc_window_display": false
  }
 },
 "nbformat": 4,
 "nbformat_minor": 5
}
